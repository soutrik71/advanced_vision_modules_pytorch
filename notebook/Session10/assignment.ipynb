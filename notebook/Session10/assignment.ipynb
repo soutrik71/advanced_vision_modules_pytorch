{
 "cells": [
  {
   "cell_type": "code",
   "execution_count": 1,
   "metadata": {},
   "outputs": [
    {
     "data": {
      "application/javascript": "IPython.notebook.set_autosave_interval(300000)"
     },
     "metadata": {},
     "output_type": "display_data"
    },
    {
     "name": "stdout",
     "output_type": "stream",
     "text": [
      "Autosaving every 300 seconds\n"
     ]
    }
   ],
   "source": [
    "%autosave 300\n",
    "%autoreload 2\n",
    "%reload_ext autoreload\n",
    "%config Completer.use_jedi = False"
   ]
  },
  {
   "cell_type": "code",
   "execution_count": 2,
   "metadata": {},
   "outputs": [
    {
     "name": "stdout",
     "output_type": "stream",
     "text": [
      "/mnt/batch/tasks/shared/LS_root/mounts/clusters/insights-model-run/code/Users/soutrik.chowdhury/advanced_vision_modules_pytorch\n"
     ]
    }
   ],
   "source": [
    "import os\n",
    "\n",
    "os.chdir(\n",
    "    \"/mnt/batch/tasks/shared/LS_root/mounts/clusters/insights-model-run/code/Users/soutrik.chowdhury/advanced_vision_modules_pytorch\"\n",
    ")\n",
    "print(os.getcwd())"
   ]
  },
  {
   "cell_type": "code",
   "execution_count": 22,
   "metadata": {},
   "outputs": [],
   "source": [
    "from src.helper import set_seed, plot_loss_accuracy, get_device\n",
    "from src.preprocessing import data_augmentations\n",
    "from src.dataloader import get_data_loader\n",
    "from src.custom_nets.custom_resnet import ResnetNetwork\n",
    "from src.trainer import (\n",
    "    train_module,\n",
    "    test_module,\n",
    "    model_drivers,\n",
    "    suggestd_lr,\n",
    "    lr_scheduler,\n",
    ")\n",
    "import torchvision.datasets as datasets\n",
    "import numpy as np\n",
    "import matplotlib.pyplot as plt\n",
    "import pandas as pd\n",
    "from torchinfo import summary\n",
    "from torchview import draw_graph"
   ]
  },
  {
   "cell_type": "code",
   "execution_count": 15,
   "metadata": {},
   "outputs": [
    {
     "name": "stdout",
     "output_type": "stream",
     "text": [
      "Random seed set as 42\n",
      "cuda\n"
     ]
    }
   ],
   "source": [
    "# Setting up basic training elements\n",
    "set_seed(42)\n",
    "device = get_device()\n",
    "print(device)\n",
    "batch_size = 512\n",
    "epochs = 25\n",
    "learning_rate = 1e-3"
   ]
  },
  {
   "cell_type": "code",
   "execution_count": 16,
   "metadata": {},
   "outputs": [],
   "source": [
    "# Specify the image classes\n",
    "classes = [\n",
    "    \"airplane\",\n",
    "    \"automobile\",\n",
    "    \"bird\",\n",
    "    \"cat\",\n",
    "    \"deer\",\n",
    "    \"dog\",\n",
    "    \"frog\",\n",
    "    \"horse\",\n",
    "    \"ship\",\n",
    "    \"truck\",\n",
    "]\n",
    "num_classes = len(classes)"
   ]
  },
  {
   "cell_type": "code",
   "execution_count": 17,
   "metadata": {},
   "outputs": [
    {
     "name": "stdout",
     "output_type": "stream",
     "text": [
      "Files already downloaded and verified\n",
      "Files already downloaded and verified\n"
     ]
    }
   ],
   "source": [
    "# get CIFAR10 data from torchvision\n",
    "# downloading train and test data\n",
    "train = datasets.CIFAR10(\"./data\", train=True, download=True)\n",
    "test = datasets.CIFAR10(\"./data\", train=False, download=True)"
   ]
  },
  {
   "cell_type": "code",
   "execution_count": 20,
   "metadata": {},
   "outputs": [],
   "source": [
    "# get dataloader for data batching\n",
    "dataloader_args = (\n",
    "    dict(shuffle=True, batch_size=batch_size, num_workers=4, pin_memory=True)\n",
    "    if device.type == \"cuda\"\n",
    "    else dict(shuffle=True, batch_size=batch_size)\n",
    ")\n",
    "\n",
    "# get train and test transformations\n",
    "train_transforms, test_transforms = data_augmentations()\n",
    "\n",
    "# batch loading\n",
    "train_loader, test_loader = get_data_loader(\n",
    "    train, test, train_transforms, test_transforms, dataloader_args\n",
    ")"
   ]
  },
  {
   "cell_type": "code",
   "execution_count": 21,
   "metadata": {},
   "outputs": [
    {
     "name": "stderr",
     "output_type": "stream",
     "text": [
      "/anaconda/envs/torch_env/lib/python3.10/multiprocessing/popen_fork.py:66: RuntimeWarning: os.fork() was called. os.fork() is incompatible with multithreaded code, and JAX is multithreaded, so this will likely lead to a deadlock.\n",
      "  self.pid = os.fork()\n"
     ]
    },
    {
     "name": "stdout",
     "output_type": "stream",
     "text": [
      "torch.Size([512, 3, 32, 32])\n",
      "torch.Size([512])\n",
      "tensor(-0.0673)\n",
      "tensor(1.3094)\n"
     ]
    }
   ],
   "source": [
    "for images, labels in train_loader:\n",
    "    print(images.shape)\n",
    "    print(labels.shape)\n",
    "    print(images.mean())\n",
    "    print(images.std())\n",
    "    break"
   ]
  },
  {
   "cell_type": "markdown",
   "metadata": {},
   "source": [
    "## Basic Model without any LR scheduling"
   ]
  },
  {
   "cell_type": "code",
   "execution_count": 26,
   "metadata": {},
   "outputs": [
    {
     "data": {
      "text/plain": [
       "==========================================================================================\n",
       "Layer (type:depth-idx)                   Output Shape              Param #\n",
       "==========================================================================================\n",
       "ResnetNetwork                            [1, 10]                   --\n",
       "├─Sequential: 1-1                        [1, 64, 32, 32]           --\n",
       "│    └─Conv2d: 2-1                       [1, 64, 32, 32]           1,728\n",
       "│    └─BatchNorm2d: 2-2                  [1, 64, 32, 32]           128\n",
       "│    └─ReLU: 2-3                         [1, 64, 32, 32]           --\n",
       "├─ResnetBlock: 1-2                       [1, 128, 16, 16]          --\n",
       "│    └─Sequential: 2-4                   [1, 128, 16, 16]          --\n",
       "│    │    └─Conv2d: 3-1                  [1, 128, 32, 32]          73,728\n",
       "│    │    └─MaxPool2d: 3-2               [1, 128, 16, 16]          --\n",
       "│    │    └─BatchNorm2d: 3-3             [1, 128, 16, 16]          256\n",
       "│    │    └─ReLU: 3-4                    [1, 128, 16, 16]          --\n",
       "│    └─Sequential: 2-5                   [1, 128, 16, 16]          --\n",
       "│    │    └─Conv2d: 3-5                  [1, 128, 16, 16]          73,728\n",
       "│    │    └─BatchNorm2d: 3-6             [1, 128, 16, 16]          256\n",
       "│    │    └─ReLU: 3-7                    [1, 128, 16, 16]          --\n",
       "│    │    └─Conv2d: 3-8                  [1, 128, 16, 16]          147,456\n",
       "│    │    └─BatchNorm2d: 3-9             [1, 128, 16, 16]          256\n",
       "│    │    └─ReLU: 3-10                   [1, 128, 16, 16]          --\n",
       "├─Sequential: 1-3                        [1, 256, 8, 8]            --\n",
       "│    └─Conv2d: 2-6                       [1, 256, 16, 16]          294,912\n",
       "│    └─MaxPool2d: 2-7                    [1, 256, 8, 8]            --\n",
       "│    └─BatchNorm2d: 2-8                  [1, 256, 8, 8]            512\n",
       "│    └─ReLU: 2-9                         [1, 256, 8, 8]            --\n",
       "├─ResnetBlock: 1-4                       [1, 512, 4, 4]            --\n",
       "│    └─Sequential: 2-10                  [1, 512, 4, 4]            --\n",
       "│    │    └─Conv2d: 3-11                 [1, 512, 8, 8]            1,179,648\n",
       "│    │    └─MaxPool2d: 3-12              [1, 512, 4, 4]            --\n",
       "│    │    └─BatchNorm2d: 3-13            [1, 512, 4, 4]            1,024\n",
       "│    │    └─ReLU: 3-14                   [1, 512, 4, 4]            --\n",
       "│    └─Sequential: 2-11                  [1, 512, 4, 4]            --\n",
       "│    │    └─Conv2d: 3-15                 [1, 512, 4, 4]            1,179,648\n",
       "│    │    └─BatchNorm2d: 3-16            [1, 512, 4, 4]            1,024\n",
       "│    │    └─ReLU: 3-17                   [1, 512, 4, 4]            --\n",
       "│    │    └─Conv2d: 3-18                 [1, 512, 4, 4]            2,359,296\n",
       "│    │    └─BatchNorm2d: 3-19            [1, 512, 4, 4]            1,024\n",
       "│    │    └─ReLU: 3-20                   [1, 512, 4, 4]            --\n",
       "├─MaxPool2d: 1-5                         [1, 512, 1, 1]            --\n",
       "├─Sequential: 1-6                        [1, 10]                   --\n",
       "│    └─AdaptiveAvgPool2d: 2-12           [1, 512, 1, 1]            --\n",
       "│    └─Flatten: 2-13                     [1, 512]                  --\n",
       "│    └─Linear: 2-14                      [1, 10]                   5,130\n",
       "==========================================================================================\n",
       "Total params: 5,319,754\n",
       "Trainable params: 5,319,754\n",
       "Non-trainable params: 0\n",
       "Total mult-adds (M): 341.52\n",
       "==========================================================================================\n",
       "Input size (MB): 0.01\n",
       "Forward/backward pass size (MB): 4.65\n",
       "Params size (MB): 21.28\n",
       "Estimated Total Size (MB): 25.94\n",
       "=========================================================================================="
      ]
     },
     "execution_count": 26,
     "metadata": {},
     "output_type": "execute_result"
    }
   ],
   "source": [
    "resnet_model = ResnetNetwork(in_channels=3, num_classes=num_classes).to(device)\n",
    "summary(resnet_model, input_size=(1,3, 32, 32))"
   ]
  },
  {
   "cell_type": "code",
   "execution_count": 28,
   "metadata": {},
   "outputs": [],
   "source": [
    "model, optimizer, criterion, metric, early_stopping = model_drivers(\n",
    "    model=resnet_model,\n",
    "    learning_rate=learning_rate,\n",
    "    device=device,\n",
    "    num_classes=num_classes,\n",
    "    model_name=\"resnet_model_base\",\n",
    ")"
   ]
  },
  {
   "cell_type": "code",
   "execution_count": 29,
   "metadata": {},
   "outputs": [
    {
     "name": "stdout",
     "output_type": "stream",
     "text": [
      "Epoch 0\n"
     ]
    },
    {
     "name": "stderr",
     "output_type": "stream",
     "text": [
      "  0%|                                                                                                                                                                                                                                                                                                                                                                                                                                                                                                                                                                                                                                                                                                                                                                                                                                                                                                                                                                                                           | 0/98 [00:00<?, ?it/s]/anaconda/envs/torch_env/lib/python3.10/multiprocessing/popen_fork.py:66: RuntimeWarning: os.fork() was called. os.fork() is incompatible with multithreaded code, and JAX is multithreaded, so this will likely lead to a deadlock.\n",
      "  self.pid = os.fork()\n"
     ]
    }
   ],
   "source": [
    "train_losses = []\n",
    "train_metrics = []\n",
    "test_losses = []\n",
    "test_metrics = []\n",
    "\n",
    "for epoch in range(0, epochs):\n",
    "    print(f\"Epoch {epoch}\")\n",
    "    train_losses, train_metrics = train_module(\n",
    "        resnet_model,\n",
    "        device,\n",
    "        train_loader,\n",
    "        optimizer,\n",
    "        criterion,\n",
    "        metric,\n",
    "        train_losses,\n",
    "        train_metrics,\n",
    "    )\n",
    "    test_losses, test_metrics = test_module(\n",
    "        resnet_model,\n",
    "        device,\n",
    "        test_loader,\n",
    "        criterion,\n",
    "        metric,\n",
    "        test_losses,\n",
    "        test_metrics,\n",
    "    )\n",
    "\n",
    "\n",
    "    early_stopping(\n",
    "        test_losses[-1], resnet_model, epoch\n",
    "    )  # last recorded test loss to measure the improvement against the prior one\n",
    "    if early_stopping.early_stop:\n",
    "        print(\"Early stopping\")\n",
    "        break"
   ]
  },
  {
   "cell_type": "code",
   "execution_count": null,
   "metadata": {},
   "outputs": [],
   "source": []
  },
  {
   "cell_type": "code",
   "execution_count": null,
   "metadata": {},
   "outputs": [],
   "source": []
  },
  {
   "cell_type": "code",
   "execution_count": null,
   "metadata": {},
   "outputs": [],
   "source": []
  },
  {
   "cell_type": "code",
   "execution_count": null,
   "metadata": {},
   "outputs": [],
   "source": []
  },
  {
   "cell_type": "code",
   "execution_count": null,
   "metadata": {},
   "outputs": [],
   "source": []
  },
  {
   "cell_type": "code",
   "execution_count": null,
   "metadata": {},
   "outputs": [],
   "source": []
  },
  {
   "cell_type": "code",
   "execution_count": null,
   "metadata": {},
   "outputs": [],
   "source": []
  },
  {
   "cell_type": "code",
   "execution_count": null,
   "metadata": {},
   "outputs": [],
   "source": []
  },
  {
   "cell_type": "code",
   "execution_count": null,
   "metadata": {},
   "outputs": [],
   "source": []
  },
  {
   "cell_type": "code",
   "execution_count": null,
   "metadata": {},
   "outputs": [],
   "source": []
  },
  {
   "cell_type": "code",
   "execution_count": null,
   "metadata": {},
   "outputs": [],
   "source": []
  },
  {
   "cell_type": "code",
   "execution_count": null,
   "metadata": {},
   "outputs": [],
   "source": []
  },
  {
   "cell_type": "code",
   "execution_count": null,
   "metadata": {},
   "outputs": [],
   "source": []
  }
 ],
 "metadata": {
  "kernelspec": {
   "display_name": "torch_env",
   "language": "python",
   "name": "python3"
  },
  "language_info": {
   "codemirror_mode": {
    "name": "ipython",
    "version": 3
   },
   "file_extension": ".py",
   "mimetype": "text/x-python",
   "name": "python",
   "nbconvert_exporter": "python",
   "pygments_lexer": "ipython3",
   "version": "3.10.12"
  }
 },
 "nbformat": 4,
 "nbformat_minor": 2
}
