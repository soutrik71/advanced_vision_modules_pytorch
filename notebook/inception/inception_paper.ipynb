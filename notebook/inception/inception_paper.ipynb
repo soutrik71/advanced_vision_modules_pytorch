{
 "cells": [
  {
   "cell_type": "markdown",
   "metadata": {},
   "source": [
    "## Inception otherwise known as GoogLeNet Straight out of the paper"
   ]
  },
  {
   "cell_type": "code",
   "execution_count": 1,
   "metadata": {},
   "outputs": [
    {
     "data": {
      "application/javascript": "IPython.notebook.set_autosave_interval(300000)"
     },
     "metadata": {},
     "output_type": "display_data"
    },
    {
     "name": "stdout",
     "output_type": "stream",
     "text": [
      "Autosaving every 300 seconds\n"
     ]
    }
   ],
   "source": [
    "%autosave 300\n",
    "%autoreload 2\n",
    "%reload_ext autoreload\n",
    "%config Completer.use_jedi = False"
   ]
  },
  {
   "cell_type": "code",
   "execution_count": 2,
   "metadata": {},
   "outputs": [
    {
     "name": "stdout",
     "output_type": "stream",
     "text": [
      "/mnt/batch/tasks/shared/LS_root/mounts/clusters/insights-model-run/code/Users/soutrik.chowdhury/advanced_vision_modules_pytorch\n"
     ]
    }
   ],
   "source": [
    "import os\n",
    "\n",
    "os.chdir(\n",
    "    \"/mnt/batch/tasks/shared/LS_root/mounts/clusters/insights-model-run/code/Users/soutrik.chowdhury/advanced_vision_modules_pytorch\"\n",
    ")\n",
    "print(os.getcwd())"
   ]
  },
  {
   "cell_type": "code",
   "execution_count": 3,
   "metadata": {},
   "outputs": [],
   "source": [
    "import os\n",
    "\n",
    "os.environ[\"CUDA_LAUNCH_BLOCKING\"] = \"1\""
   ]
  },
  {
   "cell_type": "code",
   "execution_count": 4,
   "metadata": {},
   "outputs": [],
   "source": [
    "import torch\n",
    "import torch.nn as nn\n",
    "import torch.nn.functional as F\n",
    "import torch.optim as optim\n",
    "import torchvision.transforms as transforms\n",
    "import matplotlib.pyplot as plt\n",
    "import numpy as np\n",
    "import torchvision\n",
    "import torchvision.datasets as datasets\n",
    "from torch.utils.data import Dataset, DataLoader\n",
    "from torchinfo import summary\n",
    "from torchview import draw_graph\n",
    "from pathlib import Path\n",
    "import pandas as pd\n",
    "from sklearn.preprocessing import StandardScaler\n",
    "from sklearn.model_selection import train_test_split\n",
    "from tqdm import tqdm\n",
    "import random\n",
    "from torcheval.metrics import MulticlassAccuracy, BinaryAccuracy\n",
    "from torchvision.transforms import ToTensor\n",
    "import matplotlib.pyplot as plt\n",
    "from torch.optim.lr_scheduler import (\n",
    "    OneCycleLR,\n",
    "    StepLR,\n",
    "    ExponentialLR,\n",
    ")\n",
    "from sklearn.metrics import confusion_matrix\n",
    "from sklearn.metrics import classification_report\n",
    "import scikitplot as skplt\n",
    "import seaborn as sns\n",
    "import torch.nn.functional as F\n",
    "import albumentations as alb\n",
    "from albumentations.pytorch import ToTensorV2\n",
    "import cv2\n",
    "from torch_lr_finder import LRFinder"
   ]
  },
  {
   "cell_type": "code",
   "execution_count": 5,
   "metadata": {},
   "outputs": [],
   "source": [
    "def set_seed(seed: int = 42) -> None:\n",
    "    np.random.seed(seed)\n",
    "    random.seed(seed)\n",
    "    torch.manual_seed(seed)\n",
    "    torch.cuda.manual_seed(seed)\n",
    "    # When running on the CuDNN backend, two further options must be set\n",
    "    torch.backends.cudnn.deterministic = True\n",
    "    torch.backends.cudnn.benchmark = False\n",
    "    # Set a fixed value for the hash seed\n",
    "    os.environ[\"PYTHONHASHSEED\"] = str(seed)\n",
    "    print(f\"Random seed set as {seed}\")"
   ]
  },
  {
   "cell_type": "code",
   "execution_count": 6,
   "metadata": {},
   "outputs": [],
   "source": [
    "def plot_loss_accuracy(\n",
    "    train_loss,\n",
    "    val_loss,\n",
    "    train_acc,\n",
    "    val_acc,\n",
    "    labels,\n",
    "    colors,\n",
    "    loss_legend_loc=\"upper center\",\n",
    "    acc_legend_loc=\"upper left\",\n",
    "    legend_font=5,\n",
    "    fig_size=(16, 10),\n",
    "    sub_plot1=(1, 2, 1),\n",
    "    sub_plot2=(1, 2, 2),\n",
    "):\n",
    "\n",
    "    plt.rcParams[\"figure.figsize\"] = fig_size\n",
    "    plt.figure\n",
    "\n",
    "    plt.subplot(sub_plot1[0], sub_plot1[1], sub_plot1[2])\n",
    "\n",
    "    for i in range(len(train_loss)):\n",
    "        x_train = range(len(train_loss[i]))\n",
    "        x_val = range(len(val_loss[i]))\n",
    "\n",
    "        min_train_loss = np.array(train_loss[i]).min()\n",
    "\n",
    "        min_val_loss = np.array(val_loss[i]).min()\n",
    "\n",
    "        plt.plot(\n",
    "            x_train,\n",
    "            train_loss[i],\n",
    "            linestyle=\"-\",\n",
    "            color=\"tab:{}\".format(colors[i]),\n",
    "            label=\"TRAIN ({0:.4}): {1}\".format(min_train_loss, labels[i]),\n",
    "        )\n",
    "        plt.plot(\n",
    "            x_val,\n",
    "            val_loss[i],\n",
    "            linestyle=\"--\",\n",
    "            color=\"tab:{}\".format(colors[i]),\n",
    "            label=\"VALID ({0:.4}): {1}\".format(min_val_loss, labels[i]),\n",
    "        )\n",
    "\n",
    "    plt.xlabel(\"epoch no.\")\n",
    "    plt.ylabel(\"loss\")\n",
    "    plt.legend(loc=loss_legend_loc, prop={\"size\": legend_font})\n",
    "    plt.title(\"Training and Validation Loss\")\n",
    "\n",
    "    plt.subplot(sub_plot2[0], sub_plot2[1], sub_plot2[2])\n",
    "\n",
    "    for i in range(len(train_acc)):\n",
    "        x_train = range(len(train_acc[i]))\n",
    "        x_val = range(len(val_acc[i]))\n",
    "\n",
    "        max_train_acc = np.array(train_acc[i]).max()\n",
    "\n",
    "        max_val_acc = np.array(val_acc[i]).max()\n",
    "\n",
    "        plt.plot(\n",
    "            x_train,\n",
    "            train_acc[i],\n",
    "            linestyle=\"-\",\n",
    "            color=\"tab:{}\".format(colors[i]),\n",
    "            label=\"TRAIN ({0:.4}): {1}\".format(max_train_acc, labels[i]),\n",
    "        )\n",
    "        plt.plot(\n",
    "            x_val,\n",
    "            val_acc[i],\n",
    "            linestyle=\"--\",\n",
    "            color=\"tab:{}\".format(colors[i]),\n",
    "            label=\"VALID ({0:.4}): {1}\".format(max_val_acc, labels[i]),\n",
    "        )\n",
    "\n",
    "    plt.xlabel(\"epoch no.\")\n",
    "    plt.ylabel(\"accuracy\")\n",
    "    plt.legend(loc=acc_legend_loc, prop={\"size\": legend_font})\n",
    "    plt.title(\"Training and Validation Accuracy\")\n",
    "\n",
    "    plt.show()\n",
    "    plt.close()"
   ]
  },
  {
   "cell_type": "code",
   "execution_count": 7,
   "metadata": {},
   "outputs": [],
   "source": [
    "class EarlyStopping:\n",
    "    \"\"\"Early stops the training if validation loss doesn't improve after a given patience.\"\"\"\n",
    "\n",
    "    def __init__(\n",
    "        self,\n",
    "        patience=3,\n",
    "        verbose=True,\n",
    "        delta=1e-5,\n",
    "        trace_func=print,\n",
    "        path=\"models\",\n",
    "        model_name=\"model.pt\",\n",
    "    ):\n",
    "        \"\"\"\n",
    "        Args:\n",
    "            patience (int): How long to wait after last time validation loss improved.\n",
    "                            Default: 7\n",
    "            verbose (bool): If True, prints a message for each validation loss improvement.\n",
    "                            Default: False\n",
    "            delta (float): Minimum change in the monitored quantity to qualify as an improvement.\n",
    "                            Default: 0\n",
    "            path (str): Path for the checkpoint to be saved to.\n",
    "                            Default: 'checkpoint.pt'\n",
    "            trace_func (function): trace print function.\n",
    "                            Default: print\n",
    "            path (str): Path for the checkpoint to be saved to.\n",
    "                            Default: 'checkpoint.pt'\n",
    "        \"\"\"\n",
    "        self.patience = patience\n",
    "        self.verbose = verbose\n",
    "        self.counter = 0\n",
    "        self.best_score = None\n",
    "        self.early_stop = False\n",
    "        self.val_loss_min = np.Inf\n",
    "        self.delta = delta\n",
    "        self.path = path\n",
    "        self.model_name = model_name\n",
    "        self.trace_func = trace_func\n",
    "\n",
    "    def __call__(self, val_loss, model, epoch):\n",
    "\n",
    "        score = -val_loss\n",
    "\n",
    "        if self.best_score is None:\n",
    "            self.best_score = score\n",
    "            self.save_checkpoint(val_loss, model)\n",
    "        elif score < self.best_score + self.delta:\n",
    "            self.counter += 1\n",
    "            self.trace_func(\n",
    "                f\"EarlyStopping counter: {self.counter} out of {self.patience}\"\n",
    "            )\n",
    "            if self.counter >= self.patience:\n",
    "                self.early_stop = True\n",
    "        else:\n",
    "            self.best_score = score\n",
    "            self.save_checkpoint(val_loss, model)\n",
    "            self.counter = 0\n",
    "\n",
    "    def save_checkpoint(self, val_loss, model):\n",
    "        \"\"\"Saves model when validation loss decrease.\"\"\"\n",
    "        if self.verbose:\n",
    "            self.trace_func(\n",
    "                f\"Validation loss decreased ({self.val_loss_min:.6f} --> {val_loss:.6f}).  Saving model ...\"\n",
    "            )\n",
    "        os.makedirs(self.path, exist_ok=True)\n",
    "        torch.save(model.state_dict(), os.path.join(self.path, self.model_name))\n",
    "        self.val_loss_min = val_loss\n",
    "\n",
    "\n",
    "def get_device():\n",
    "    \"\"\"Get device (if GPU is available, use GPU)\"\"\"\n",
    "    return torch.device(\"cuda\" if torch.cuda.is_available() else \"cpu\")"
   ]
  },
  {
   "cell_type": "code",
   "execution_count": 8,
   "metadata": {},
   "outputs": [
    {
     "name": "stdout",
     "output_type": "stream",
     "text": [
      "Random seed set as 42\n",
      "cuda\n"
     ]
    }
   ],
   "source": [
    "# Set manual seed since nn.Parameter are randomly initialzied\n",
    "set_seed(42)\n",
    "# Set device cuda for GPU if it's available otherwise run on the CPU\n",
    "device = get_device()\n",
    "print(device)\n",
    "batch_size = 512\n",
    "epochs = 25\n",
    "learning_rate = 1e-3"
   ]
  },
  {
   "cell_type": "code",
   "execution_count": 9,
   "metadata": {},
   "outputs": [],
   "source": [
    "# Specify the image classes\n",
    "classes = [\n",
    "    \"airplane\",\n",
    "    \"automobile\",\n",
    "    \"bird\",\n",
    "    \"cat\",\n",
    "    \"deer\",\n",
    "    \"dog\",\n",
    "    \"frog\",\n",
    "    \"horse\",\n",
    "    \"ship\",\n",
    "    \"truck\",\n",
    "]"
   ]
  },
  {
   "cell_type": "code",
   "execution_count": 21,
   "metadata": {},
   "outputs": [],
   "source": [
    "# transform for the dataset using Compose from albumentations\n",
    "def data_augmentations():\n",
    "    \"\"\"Data Augmentations for the CIFAR10 dataset using albumentations library\"\"\"\n",
    "    means = [0.4914, 0.4822, 0.4465]\n",
    "    stds = [0.2470, 0.2435, 0.2616]\n",
    "\n",
    "    train_transforms = alb.Compose(\n",
    "        [\n",
    "            alb.Normalize(mean=means, std=stds, always_apply=True),\n",
    "            alb.PadIfNeeded(min_height=40, min_width=40, always_apply=True),\n",
    "            alb.RandomCrop(height=32, width=32, always_apply=True),\n",
    "            alb.HorizontalFlip(),\n",
    "            alb.CoarseDropout(\n",
    "                max_holes=1,\n",
    "                max_height=8,\n",
    "                max_width=8,\n",
    "                min_holes=1,\n",
    "                min_height=8,\n",
    "                min_width=8,\n",
    "                fill_value=means,\n",
    "            ),\n",
    "            ToTensorV2(),\n",
    "        ]\n",
    "    )\n",
    "\n",
    "    test_transforms = alb.Compose(\n",
    "        [\n",
    "            alb.Normalize(mean=means, std=stds, always_apply=True),\n",
    "            ToTensorV2(),\n",
    "        ]\n",
    "    )\n",
    "    return train_transforms, test_transforms"
   ]
  },
  {
   "cell_type": "code",
   "execution_count": 22,
   "metadata": {},
   "outputs": [
    {
     "name": "stdout",
     "output_type": "stream",
     "text": [
      "Files already downloaded and verified\n",
      "Files already downloaded and verified\n"
     ]
    }
   ],
   "source": [
    "# downloading train and test data\n",
    "train = datasets.CIFAR10(\"./data\", train=True, download=True)\n",
    "test = datasets.CIFAR10(\"./data\", train=False, download=True)"
   ]
  },
  {
   "cell_type": "code",
   "execution_count": 23,
   "metadata": {},
   "outputs": [],
   "source": [
    "class CifarDS(Dataset):\n",
    "    def __init__(self, X, y, transform=None):\n",
    "        self.X = X\n",
    "        self.y = y\n",
    "        self.transform = transform\n",
    "\n",
    "    def __len__(self):\n",
    "        return len(self.X)\n",
    "\n",
    "    def __getitem__(self, idx):\n",
    "        image = self.X[idx]\n",
    "        label = self.y[idx]\n",
    "        if self.transform is not None:\n",
    "            image = self.transform(image=image)[\"image\"]\n",
    "        return image, label"
   ]
  },
  {
   "cell_type": "code",
   "execution_count": 24,
   "metadata": {},
   "outputs": [],
   "source": [
    "train_transforms, test_transforms = data_augmentations()\n",
    "train_dateset = CifarDS(train.data, train.targets, train_transforms)\n",
    "test_dateset = CifarDS(test.data, test.targets, test_transforms)"
   ]
  },
  {
   "cell_type": "code",
   "execution_count": 25,
   "metadata": {},
   "outputs": [],
   "source": [
    "def get_data_loader(\n",
    "    train_dateset, test_dateset, train_transforms, test_transforms, dataloader_args\n",
    "):\n",
    "    \"\"\"Data loader for the CIFAR10 dataset\"\"\"\n",
    "    # Loading custom datasets\n",
    "    train_dateset = CifarDS(train_dateset.data, train_dateset.targets, train_transforms)\n",
    "    test_dateset = CifarDS(test_dateset.data, test_dateset.targets, test_transforms)\n",
    "    # train dataloader\n",
    "    train_loader = torch.utils.data.DataLoader(train_dateset, **dataloader_args)\n",
    "    # test dataloader\n",
    "    test_loader = torch.utils.data.DataLoader(test_dateset, **dataloader_args)\n",
    "    return train_loader, test_loader"
   ]
  },
  {
   "cell_type": "code",
   "execution_count": 26,
   "metadata": {},
   "outputs": [
    {
     "name": "stdout",
     "output_type": "stream",
     "text": [
      "torch.Size([3, 32, 32])\n",
      "6\n",
      "tensor(-0.3312)\n"
     ]
    }
   ],
   "source": [
    "for data, label in train_dateset:\n",
    "    print(data.shape)\n",
    "    print(label)\n",
    "    print(data.mean())\n",
    "    break"
   ]
  },
  {
   "cell_type": "code",
   "execution_count": 27,
   "metadata": {},
   "outputs": [],
   "source": [
    "# Dataloaders\n",
    "# dataloader arguments - something you'll fetch these from cmdprmt\n",
    "dataloader_args = (\n",
    "    dict(shuffle=True, batch_size=batch_size, num_workers=4, pin_memory=True)\n",
    "    if device.type == \"cuda\"\n",
    "    else dict(shuffle=True, batch_size=batch_size)\n",
    ")\n",
    "\n",
    "# train dataloader\n",
    "train_loader = torch.utils.data.DataLoader(train_dateset, **dataloader_args)\n",
    "\n",
    "# test dataloader\n",
    "test_loader = torch.utils.data.DataLoader(test_dateset, **dataloader_args)"
   ]
  },
  {
   "cell_type": "code",
   "execution_count": 28,
   "metadata": {},
   "outputs": [
    {
     "name": "stderr",
     "output_type": "stream",
     "text": [
      "/anaconda/envs/torch_env/lib/python3.10/multiprocessing/popen_fork.py:66: RuntimeWarning: os.fork() was called. os.fork() is incompatible with multithreaded code, and JAX is multithreaded, so this will likely lead to a deadlock.\n",
      "  self.pid = os.fork()\n",
      "/anaconda/envs/torch_env/lib/python3.10/multiprocessing/popen_fork.py:66: RuntimeWarning: os.fork() was called. os.fork() is incompatible with multithreaded code, and JAX is multithreaded, so this will likely lead to a deadlock.\n",
      "  self.pid = os.fork()\n"
     ]
    },
    {
     "name": "stdout",
     "output_type": "stream",
     "text": [
      "torch.Size([512, 3, 32, 32])\n",
      "torch.Size([512])\n"
     ]
    }
   ],
   "source": [
    "for images, labels in train_loader:\n",
    "    print(images.shape)\n",
    "    print(labels.shape)\n",
    "    break"
   ]
  },
  {
   "cell_type": "markdown",
   "metadata": {},
   "source": [
    "## Inception Lenet Model"
   ]
  },
  {
   "cell_type": "markdown",
   "metadata": {},
   "source": [
    "https://miro.medium.com/v2/resize:fit:828/format:webp/1*yGcmBL1Nyqpj2lNG2sj5Wg.png"
   ]
  },
  {
   "cell_type": "markdown",
   "metadata": {},
   "source": [
    "Conv Block for the dataprep part "
   ]
  },
  {
   "cell_type": "code",
   "execution_count": 149,
   "metadata": {},
   "outputs": [],
   "source": [
    "class ConvBlock(nn.Module):\n",
    "    \"\"\"Convolutional Block for Initial data prep for Inception block\"\"\"\n",
    "\n",
    "    def __init__(self, in_channels, out_channels, **kwargs):\n",
    "        super(ConvBlock, self).__init__()\n",
    "        self.convb = nn.Conv2d(in_channels, out_channels, **kwargs)\n",
    "        self.bn = nn.BatchNorm2d(out_channels)\n",
    "\n",
    "    def forward(self, x):\n",
    "        x = self.convb(x)\n",
    "        x = self.bn(x)\n",
    "        x = F.relu(x)\n",
    "        return x"
   ]
  },
  {
   "cell_type": "markdown",
   "metadata": {},
   "source": [
    "Next we design the inception block which is the most important part we throw the model three options: one-by-one, three-by-three, and five-by-five kernels, and we let the model figure out how to weigh and process information from these kernels."
   ]
  },
  {
   "cell_type": "code",
   "execution_count": 139,
   "metadata": {},
   "outputs": [],
   "source": [
    "class InceptionBlock(nn.Module):\n",
    "    \"\"\"Inception Block for the model\"\"\"\n",
    "\n",
    "    def __init__(self, in_channels, out_11, in_33, out_33, in_55, out_55, out_pool):\n",
    "        super(InceptionBlock, self).__init__()\n",
    "        # 1*1 block\n",
    "        self.branch11 = nn.Conv2d(in_channels, out_11, kernel_size=1)\n",
    "        # 1*1 -> 3*3 block\n",
    "        self.branch33 = nn.Sequential(\n",
    "            nn.Conv2d(in_channels, in_33, kernel_size=1, padding=0),\n",
    "            nn.Conv2d(in_33, out_33, kernel_size=3, padding=1),\n",
    "        )\n",
    "        # 1*1 -> 5*5 block\n",
    "        self.branch55 = nn.Sequential(\n",
    "            nn.Conv2d(in_channels, in_55, kernel_size=1, padding=0),\n",
    "            nn.Conv2d(in_55, out_55, kernel_size=5, padding=2),\n",
    "        )\n",
    "        # maxpool -> 1*1 block\n",
    "        self.branchpool = nn.Sequential(\n",
    "            nn.MaxPool2d(kernel_size=3, stride=1, padding=1),\n",
    "            nn.Conv2d(in_channels, out_pool, kernel_size=1),\n",
    "        )\n",
    "\n",
    "    def forward(self, x):\n",
    "        return torch.cat(\n",
    "            [self.branch11(x), self.branch33(x), self.branch55(x), self.branchpool(x)],\n",
    "            1,\n",
    "        )"
   ]
  },
  {
   "cell_type": "code",
   "execution_count": 140,
   "metadata": {},
   "outputs": [
    {
     "data": {
      "text/plain": [
       "==========================================================================================\n",
       "Layer (type:depth-idx)                   Output Shape              Param #\n",
       "==========================================================================================\n",
       "InceptionBlock                           [1, 256, 32, 32]          --\n",
       "├─Conv2d: 1-1                            [1, 64, 32, 32]           12,352\n",
       "├─Sequential: 1-2                        [1, 128, 32, 32]          --\n",
       "│    └─Conv2d: 2-1                       [1, 96, 32, 32]           18,528\n",
       "│    └─Conv2d: 2-2                       [1, 128, 32, 32]          110,720\n",
       "├─Sequential: 1-3                        [1, 32, 32, 32]           --\n",
       "│    └─Conv2d: 2-3                       [1, 16, 32, 32]           3,088\n",
       "│    └─Conv2d: 2-4                       [1, 32, 32, 32]           12,832\n",
       "├─Sequential: 1-4                        [1, 32, 32, 32]           --\n",
       "│    └─MaxPool2d: 2-5                    [1, 192, 32, 32]          --\n",
       "│    └─Conv2d: 2-6                       [1, 32, 32, 32]           6,176\n",
       "==========================================================================================\n",
       "Total params: 163,696\n",
       "Trainable params: 163,696\n",
       "Non-trainable params: 0\n",
       "Total mult-adds (M): 167.62\n",
       "==========================================================================================\n",
       "Input size (MB): 0.79\n",
       "Forward/backward pass size (MB): 3.01\n",
       "Params size (MB): 0.65\n",
       "Estimated Total Size (MB): 4.46\n",
       "=========================================================================================="
      ]
     },
     "execution_count": 140,
     "metadata": {},
     "output_type": "execute_result"
    }
   ],
   "source": [
    "inception_block = InceptionBlock(192, 64, 96, 128, 16, 32, 32).to(device)\n",
    "summary(inception_block, input_size=(1,192, 32, 32))"
   ]
  },
  {
   "cell_type": "markdown",
   "metadata": {},
   "source": [
    "Next we will define the auxillary classifiers which will be optional in the main Model"
   ]
  },
  {
   "cell_type": "code",
   "execution_count": 141,
   "metadata": {},
   "outputs": [],
   "source": [
    "import functools\n",
    "import operator"
   ]
  },
  {
   "cell_type": "code",
   "execution_count": 142,
   "metadata": {},
   "outputs": [],
   "source": [
    "class InceptionAux(nn.Module):\n",
    "    def __init__(self, in_channels, out_classes, input_dim):\n",
    "        super(InceptionAux, self).__init__()\n",
    "        self.pool = nn.MaxPool2d(kernel_size=5, stride=3)\n",
    "        self.convb = nn.Conv2d(in_channels, 128, kernel_size=1, stride=1)\n",
    "        linear_inchannels = int(128 * (((input_dim - 5) / 3) + 1) ** 2)\n",
    "        print(linear_inchannels)\n",
    "        self.fc1 = nn.Linear(linear_inchannels, 1024)\n",
    "        self.fc2 = nn.Linear(1024, out_classes)\n",
    "        self.dropout = nn.Dropout(0.3)\n",
    "\n",
    "    def forward(self, x):\n",
    "        x = self.pool(x)\n",
    "        print(x.shape)\n",
    "        x = self.convb(x)\n",
    "        x = x.reshape(x.shape[0], -1)\n",
    "        print(x.shape)\n",
    "        x = self.fc1(x)\n",
    "        x = F.relu(x)\n",
    "        x = self.dropout(x)\n",
    "        x = self.fc2(x)\n",
    "        return F.log_softmax(x, dim=-1)"
   ]
  },
  {
   "cell_type": "code",
   "execution_count": 143,
   "metadata": {},
   "outputs": [
    {
     "name": "stdout",
     "output_type": "stream",
     "text": [
      "12800\n",
      "torch.Size([1, 128, 10, 10])\n",
      "torch.Size([1, 12800])\n"
     ]
    },
    {
     "data": {
      "text/plain": [
       "==========================================================================================\n",
       "Layer (type:depth-idx)                   Output Shape              Param #\n",
       "==========================================================================================\n",
       "InceptionAux                             [1, 10]                   --\n",
       "├─MaxPool2d: 1-1                         [1, 128, 10, 10]          --\n",
       "├─Conv2d: 1-2                            [1, 128, 10, 10]          16,512\n",
       "├─Linear: 1-3                            [1, 1024]                 13,108,224\n",
       "├─Dropout: 1-4                           [1, 1024]                 --\n",
       "├─Linear: 1-5                            [1, 10]                   10,250\n",
       "==========================================================================================\n",
       "Total params: 13,134,986\n",
       "Trainable params: 13,134,986\n",
       "Non-trainable params: 0\n",
       "Total mult-adds (M): 14.77\n",
       "==========================================================================================\n",
       "Input size (MB): 0.52\n",
       "Forward/backward pass size (MB): 0.11\n",
       "Params size (MB): 52.54\n",
       "Estimated Total Size (MB): 53.17\n",
       "=========================================================================================="
      ]
     },
     "execution_count": 143,
     "metadata": {},
     "output_type": "execute_result"
    }
   ],
   "source": [
    "inception_aux = InceptionAux(128, 10, 32).to(device)\n",
    "summary(inception_aux, input_size=(1, 128, 32, 32))"
   ]
  },
  {
   "cell_type": "code",
   "execution_count": 144,
   "metadata": {},
   "outputs": [],
   "source": [
    "# rand_torch = torch.rand(1, 192, 32, 32).to(device)\n",
    "# print(rand_torch.flatten(1).shape)\n",
    "# print(rand_torch.reshape(rand_torch.shape[0], -1).shape)"
   ]
  },
  {
   "cell_type": "markdown",
   "metadata": {},
   "source": [
    "Next we will define the final model"
   ]
  },
  {
   "cell_type": "code",
   "execution_count": 160,
   "metadata": {},
   "outputs": [],
   "source": [
    "class InceptionV1(nn.Module):\n",
    "    \"\"\"Inception model class\"\"\"\n",
    "\n",
    "    def __init__(self, aux_logits=False, num_classes=10, image_dim=32):\n",
    "        super(InceptionV1, self).__init__()\n",
    "        self.aux_logits = aux_logits\n",
    "\n",
    "        # fierst data prep layer\n",
    "        self.conv1 = ConvBlock(\n",
    "            in_channels=3,\n",
    "            out_channels=64,\n",
    "            kernel_size=(7, 7),\n",
    "            stride=(2, 2),\n",
    "            padding=(3, 3),\n",
    "        )\n",
    "        self.conv2 = ConvBlock(64, 192, kernel_size=3, stride=1, padding=1)\n",
    "        self.maxpool = nn.MaxPool2d(kernel_size=3, stride=2, padding=1)\n",
    "        # Inception block 1\n",
    "        self.inception3a = InceptionBlock(192, 64, 96, 128, 16, 32, 32)\n",
    "        # Inception block 2\n",
    "        self.inception3b = InceptionBlock(256, 128, 128, 192, 32, 96, 64)\n",
    "        # Inception block 3\n",
    "        self.inception4a = InceptionBlock(480, 192, 96, 208, 16, 48, 64)\n",
    "        # Inception block 4\n",
    "        self.inception4b = InceptionBlock(512, 160, 112, 224, 24, 64, 64)\n",
    "        # Inception block 5\n",
    "        self.inception4c = InceptionBlock(512, 128, 128, 256, 24, 64, 64)\n",
    "        # Inception block 6\n",
    "        self.inception4d = InceptionBlock(512, 112, 144, 288, 32, 64, 64)\n",
    "        # Inception block 7\n",
    "        self.inception4e = InceptionBlock(528, 256, 160, 320, 32, 128, 128)\n",
    "        # Inception block 8\n",
    "        self.inception5a = InceptionBlock(832, 256, 160, 320, 32, 128, 128)\n",
    "        # Inception block 9\n",
    "        self.inception5b = InceptionBlock(832, 384, 192, 384, 48, 128, 128)\n",
    "\n",
    "        # classification block\n",
    "        self.avgpool = nn.AdaptiveAvgPool2d((1, 1))\n",
    "        self.dropout = nn.Dropout(p=0.3)\n",
    "        self.fc = nn.Linear(1024, num_classes)\n",
    "\n",
    "        if self.aux_logits:\n",
    "            # after 3rd inception layer\n",
    "            self.aux1 = InceptionAux(512, num_classes, image_dim)\n",
    "            # after 6th inception layer\n",
    "            self.aux2 = InceptionAux(528, num_classes, image_dim)\n",
    "        else:\n",
    "            self.aux1 = self.aux2 = None\n",
    "\n",
    "    def forward(self, x):\n",
    "        # data prep layer\n",
    "        x = self.conv1(x)\n",
    "        x = self.maxpool(x)\n",
    "        x = self.conv2(x)\n",
    "        x = self.maxpool(x)\n",
    "        # inception-1\n",
    "        x = self.inception3a(x)\n",
    "        x = self.inception3b(x)\n",
    "        x = self.maxpool(x)\n",
    "        x = self.inception4a(x)\n",
    "\n",
    "        # first aux classifier\n",
    "        if self.aux_logits and self.training:\n",
    "            aux1 = self.aux1(x)\n",
    "\n",
    "        # Inception block 4th\n",
    "        x = self.inception4b(x)\n",
    "        x = self.inception4c(x)\n",
    "        x = self.inception4d(x)\n",
    "\n",
    "        # second aux classifier\n",
    "        if self.aux_logits and self.training:\n",
    "            aux2 = self.aux2(x)\n",
    "\n",
    "        x = self.inception4e(x)\n",
    "        x = self.maxpool(x)\n",
    "        x = self.inception5a(x)\n",
    "        x = self.inception5b(x)\n",
    "\n",
    "        # print(x.shape)\n",
    "        # classification block\n",
    "        x = self.avgpool(x)\n",
    "        x = x.reshape(x.shape[0], -1)\n",
    "        x = self.dropout(x)\n",
    "        x = self.fc(x)\n",
    "\n",
    "        if self.aux_logits and self.training:\n",
    "            return aux1, aux2, x\n",
    "        return x"
   ]
  },
  {
   "cell_type": "code",
   "execution_count": 161,
   "metadata": {},
   "outputs": [
    {
     "data": {
      "text/plain": [
       "==========================================================================================\n",
       "Layer (type:depth-idx)                   Output Shape              Param #\n",
       "==========================================================================================\n",
       "InceptionV1                              [1, 10]                   --\n",
       "├─ConvBlock: 1-1                         [1, 64, 16, 16]           --\n",
       "│    └─Conv2d: 2-1                       [1, 64, 16, 16]           9,472\n",
       "│    └─BatchNorm2d: 2-2                  [1, 64, 16, 16]           128\n",
       "├─MaxPool2d: 1-2                         [1, 64, 8, 8]             --\n",
       "├─ConvBlock: 1-3                         [1, 192, 8, 8]            --\n",
       "│    └─Conv2d: 2-3                       [1, 192, 8, 8]            110,784\n",
       "│    └─BatchNorm2d: 2-4                  [1, 192, 8, 8]            384\n",
       "├─MaxPool2d: 1-4                         [1, 192, 4, 4]            --\n",
       "├─InceptionBlock: 1-5                    [1, 256, 4, 4]            --\n",
       "│    └─Conv2d: 2-5                       [1, 64, 4, 4]             12,352\n",
       "│    └─Sequential: 2-6                   [1, 128, 4, 4]            --\n",
       "│    │    └─Conv2d: 3-1                  [1, 96, 4, 4]             18,528\n",
       "│    │    └─Conv2d: 3-2                  [1, 128, 4, 4]            110,720\n",
       "│    └─Sequential: 2-7                   [1, 32, 4, 4]             --\n",
       "│    │    └─Conv2d: 3-3                  [1, 16, 4, 4]             3,088\n",
       "│    │    └─Conv2d: 3-4                  [1, 32, 4, 4]             12,832\n",
       "│    └─Sequential: 2-8                   [1, 32, 4, 4]             --\n",
       "│    │    └─MaxPool2d: 3-5               [1, 192, 4, 4]            --\n",
       "│    │    └─Conv2d: 3-6                  [1, 32, 4, 4]             6,176\n",
       "├─InceptionBlock: 1-6                    [1, 480, 4, 4]            --\n",
       "│    └─Conv2d: 2-9                       [1, 128, 4, 4]            32,896\n",
       "│    └─Sequential: 2-10                  [1, 192, 4, 4]            --\n",
       "│    │    └─Conv2d: 3-7                  [1, 128, 4, 4]            32,896\n",
       "│    │    └─Conv2d: 3-8                  [1, 192, 4, 4]            221,376\n",
       "│    └─Sequential: 2-11                  [1, 96, 4, 4]             --\n",
       "│    │    └─Conv2d: 3-9                  [1, 32, 4, 4]             8,224\n",
       "│    │    └─Conv2d: 3-10                 [1, 96, 4, 4]             76,896\n",
       "│    └─Sequential: 2-12                  [1, 64, 4, 4]             --\n",
       "│    │    └─MaxPool2d: 3-11              [1, 256, 4, 4]            --\n",
       "│    │    └─Conv2d: 3-12                 [1, 64, 4, 4]             16,448\n",
       "├─MaxPool2d: 1-7                         [1, 480, 2, 2]            --\n",
       "├─InceptionBlock: 1-8                    [1, 512, 2, 2]            --\n",
       "│    └─Conv2d: 2-13                      [1, 192, 2, 2]            92,352\n",
       "│    └─Sequential: 2-14                  [1, 208, 2, 2]            --\n",
       "│    │    └─Conv2d: 3-13                 [1, 96, 2, 2]             46,176\n",
       "│    │    └─Conv2d: 3-14                 [1, 208, 2, 2]            179,920\n",
       "│    └─Sequential: 2-15                  [1, 48, 2, 2]             --\n",
       "│    │    └─Conv2d: 3-15                 [1, 16, 2, 2]             7,696\n",
       "│    │    └─Conv2d: 3-16                 [1, 48, 2, 2]             19,248\n",
       "│    └─Sequential: 2-16                  [1, 64, 2, 2]             --\n",
       "│    │    └─MaxPool2d: 3-17              [1, 480, 2, 2]            --\n",
       "│    │    └─Conv2d: 3-18                 [1, 64, 2, 2]             30,784\n",
       "├─InceptionBlock: 1-9                    [1, 512, 2, 2]            --\n",
       "│    └─Conv2d: 2-17                      [1, 160, 2, 2]            82,080\n",
       "│    └─Sequential: 2-18                  [1, 224, 2, 2]            --\n",
       "│    │    └─Conv2d: 3-19                 [1, 112, 2, 2]            57,456\n",
       "│    │    └─Conv2d: 3-20                 [1, 224, 2, 2]            226,016\n",
       "│    └─Sequential: 2-19                  [1, 64, 2, 2]             --\n",
       "│    │    └─Conv2d: 3-21                 [1, 24, 2, 2]             12,312\n",
       "│    │    └─Conv2d: 3-22                 [1, 64, 2, 2]             38,464\n",
       "│    └─Sequential: 2-20                  [1, 64, 2, 2]             --\n",
       "│    │    └─MaxPool2d: 3-23              [1, 512, 2, 2]            --\n",
       "│    │    └─Conv2d: 3-24                 [1, 64, 2, 2]             32,832\n",
       "├─InceptionBlock: 1-10                   [1, 512, 2, 2]            --\n",
       "│    └─Conv2d: 2-21                      [1, 128, 2, 2]            65,664\n",
       "│    └─Sequential: 2-22                  [1, 256, 2, 2]            --\n",
       "│    │    └─Conv2d: 3-25                 [1, 128, 2, 2]            65,664\n",
       "│    │    └─Conv2d: 3-26                 [1, 256, 2, 2]            295,168\n",
       "│    └─Sequential: 2-23                  [1, 64, 2, 2]             --\n",
       "│    │    └─Conv2d: 3-27                 [1, 24, 2, 2]             12,312\n",
       "│    │    └─Conv2d: 3-28                 [1, 64, 2, 2]             38,464\n",
       "│    └─Sequential: 2-24                  [1, 64, 2, 2]             --\n",
       "│    │    └─MaxPool2d: 3-29              [1, 512, 2, 2]            --\n",
       "│    │    └─Conv2d: 3-30                 [1, 64, 2, 2]             32,832\n",
       "├─InceptionBlock: 1-11                   [1, 528, 2, 2]            --\n",
       "│    └─Conv2d: 2-25                      [1, 112, 2, 2]            57,456\n",
       "│    └─Sequential: 2-26                  [1, 288, 2, 2]            --\n",
       "│    │    └─Conv2d: 3-31                 [1, 144, 2, 2]            73,872\n",
       "│    │    └─Conv2d: 3-32                 [1, 288, 2, 2]            373,536\n",
       "│    └─Sequential: 2-27                  [1, 64, 2, 2]             --\n",
       "│    │    └─Conv2d: 3-33                 [1, 32, 2, 2]             16,416\n",
       "│    │    └─Conv2d: 3-34                 [1, 64, 2, 2]             51,264\n",
       "│    └─Sequential: 2-28                  [1, 64, 2, 2]             --\n",
       "│    │    └─MaxPool2d: 3-35              [1, 512, 2, 2]            --\n",
       "│    │    └─Conv2d: 3-36                 [1, 64, 2, 2]             32,832\n",
       "├─InceptionBlock: 1-12                   [1, 832, 2, 2]            --\n",
       "│    └─Conv2d: 2-29                      [1, 256, 2, 2]            135,424\n",
       "│    └─Sequential: 2-30                  [1, 320, 2, 2]            --\n",
       "│    │    └─Conv2d: 3-37                 [1, 160, 2, 2]            84,640\n",
       "│    │    └─Conv2d: 3-38                 [1, 320, 2, 2]            461,120\n",
       "│    └─Sequential: 2-31                  [1, 128, 2, 2]            --\n",
       "│    │    └─Conv2d: 3-39                 [1, 32, 2, 2]             16,928\n",
       "│    │    └─Conv2d: 3-40                 [1, 128, 2, 2]            102,528\n",
       "│    └─Sequential: 2-32                  [1, 128, 2, 2]            --\n",
       "│    │    └─MaxPool2d: 3-41              [1, 528, 2, 2]            --\n",
       "│    │    └─Conv2d: 3-42                 [1, 128, 2, 2]            67,712\n",
       "├─MaxPool2d: 1-13                        [1, 832, 1, 1]            --\n",
       "├─InceptionBlock: 1-14                   [1, 832, 1, 1]            --\n",
       "│    └─Conv2d: 2-33                      [1, 256, 1, 1]            213,248\n",
       "│    └─Sequential: 2-34                  [1, 320, 1, 1]            --\n",
       "│    │    └─Conv2d: 3-43                 [1, 160, 1, 1]            133,280\n",
       "│    │    └─Conv2d: 3-44                 [1, 320, 1, 1]            461,120\n",
       "│    └─Sequential: 2-35                  [1, 128, 1, 1]            --\n",
       "│    │    └─Conv2d: 3-45                 [1, 32, 1, 1]             26,656\n",
       "│    │    └─Conv2d: 3-46                 [1, 128, 1, 1]            102,528\n",
       "│    └─Sequential: 2-36                  [1, 128, 1, 1]            --\n",
       "│    │    └─MaxPool2d: 3-47              [1, 832, 1, 1]            --\n",
       "│    │    └─Conv2d: 3-48                 [1, 128, 1, 1]            106,624\n",
       "├─InceptionBlock: 1-15                   [1, 1024, 1, 1]           --\n",
       "│    └─Conv2d: 2-37                      [1, 384, 1, 1]            319,872\n",
       "│    └─Sequential: 2-38                  [1, 384, 1, 1]            --\n",
       "│    │    └─Conv2d: 3-49                 [1, 192, 1, 1]            159,936\n",
       "│    │    └─Conv2d: 3-50                 [1, 384, 1, 1]            663,936\n",
       "│    └─Sequential: 2-39                  [1, 128, 1, 1]            --\n",
       "│    │    └─Conv2d: 3-51                 [1, 48, 1, 1]             39,984\n",
       "│    │    └─Conv2d: 3-52                 [1, 128, 1, 1]            153,728\n",
       "│    └─Sequential: 2-40                  [1, 128, 1, 1]            --\n",
       "│    │    └─MaxPool2d: 3-53              [1, 832, 1, 1]            --\n",
       "│    │    └─Conv2d: 3-54                 [1, 128, 1, 1]            106,624\n",
       "├─AdaptiveAvgPool2d: 1-16                [1, 1024, 1, 1]           --\n",
       "├─Dropout: 1-17                          [1, 1024]                 --\n",
       "├─Linear: 1-18                           [1, 10]                   10,250\n",
       "==========================================================================================\n",
       "Total params: 5,980,154\n",
       "Trainable params: 5,980,154\n",
       "Non-trainable params: 0\n",
       "Total mult-adds (M): 32.09\n",
       "==========================================================================================\n",
       "Input size (MB): 0.01\n",
       "Forward/backward pass size (MB): 0.72\n",
       "Params size (MB): 23.92\n",
       "Estimated Total Size (MB): 24.66\n",
       "=========================================================================================="
      ]
     },
     "execution_count": 161,
     "metadata": {},
     "output_type": "execute_result"
    }
   ],
   "source": [
    "inception_model = InceptionV1(aux_logits=False, num_classes=10, image_dim=32).to(device)\n",
    "summary(inception_model, input_size=(1, 3, 32, 32))"
   ]
  },
  {
   "cell_type": "code",
   "execution_count": 162,
   "metadata": {},
   "outputs": [],
   "source": [
    "# updated training module---\n",
    "def train_module(\n",
    "    model: torch.nn.Module,\n",
    "    device: torch.device,\n",
    "    train_dataloader: torch.utils.data.DataLoader,\n",
    "    optimizer: torch.optim.Optimizer,\n",
    "    criterion: torch.nn.Module,\n",
    "    metric,\n",
    "    train_losses: list,\n",
    "    train_metrics: list,\n",
    "):\n",
    "\n",
    "    # setting model to train mode\n",
    "    model.train()\n",
    "    pbar = tqdm(train_dataloader)\n",
    "\n",
    "    # batch metrics\n",
    "    train_loss = 0\n",
    "    train_metric = 0\n",
    "    processed_batch = 0\n",
    "\n",
    "    for idx, (data, label) in enumerate(pbar):\n",
    "        # setting up device\n",
    "        data = data.to(device)\n",
    "        label = label.to(device)\n",
    "\n",
    "        # forward pass output\n",
    "        preds = model(data)\n",
    "\n",
    "        # calc loss\n",
    "        loss = criterion(preds, label)\n",
    "        train_loss += loss.item()\n",
    "        # print(f\"training loss for batch {idx} is {loss}\")\n",
    "\n",
    "        # backpropagation\n",
    "        optimizer.zero_grad()  # flush out  existing grads\n",
    "        loss.backward()  # back prop of weights wrt loss\n",
    "        optimizer.step()  # optimizer step -> minima\n",
    "\n",
    "        # metric calc\n",
    "        preds = torch.argmax(preds, dim=1)\n",
    "        # print(f\"preds:: {preds}\")\n",
    "        metric.update(preds, label)\n",
    "        train_metric += metric.compute().detach().item()\n",
    "\n",
    "        # updating batch count\n",
    "        processed_batch += 1\n",
    "\n",
    "        pbar.set_description(\n",
    "            f\"Avg Train Loss: {train_loss/processed_batch} Avg Train Metric: {train_metric/processed_batch}\"\n",
    "        )\n",
    "\n",
    "    # It's typically called after the epoch completes\n",
    "    metric.reset()\n",
    "    # updating epoch metrics\n",
    "    train_losses.append(train_loss / processed_batch)\n",
    "    train_metrics.append(train_metric / processed_batch)\n",
    "\n",
    "    return train_losses, train_metrics"
   ]
  },
  {
   "cell_type": "code",
   "execution_count": 163,
   "metadata": {},
   "outputs": [],
   "source": [
    "# updated testing modules---\n",
    "def test_module(\n",
    "    model: torch.nn.Module,\n",
    "    device: torch.device,\n",
    "    test_dataloader: torch.utils.data.DataLoader,\n",
    "    criterion: torch.nn.Module,\n",
    "    metric,\n",
    "    test_losses,\n",
    "    test_metrics,\n",
    "):\n",
    "    # setting model to eval mode\n",
    "    model.eval()\n",
    "    pbar = tqdm(test_dataloader)\n",
    "\n",
    "    # batch metrics\n",
    "    test_loss = 0\n",
    "    test_metric = 0\n",
    "    processed_batch = 0\n",
    "\n",
    "    with torch.inference_mode():\n",
    "        for idx, (data, label) in enumerate(pbar):\n",
    "            data, label = data.to(device), label.to(device)\n",
    "            # predictions\n",
    "            preds = model(data)\n",
    "            # print(preds.shape)\n",
    "            # print(label.shape)\n",
    "\n",
    "            # loss calc\n",
    "            loss = criterion(preds, label)\n",
    "            test_loss += loss.item()\n",
    "\n",
    "            # metric calc\n",
    "            preds = torch.argmax(preds, dim=1)\n",
    "            metric.update(preds, label)\n",
    "            test_metric += metric.compute().detach().item()\n",
    "\n",
    "            # updating batch count\n",
    "            processed_batch += 1\n",
    "\n",
    "            pbar.set_description(\n",
    "                f\"Avg Test Loss: {test_loss/processed_batch} Avg Test Metric: {test_metric/processed_batch}\"\n",
    "            )\n",
    "\n",
    "        # It's typically called after the epoch completes\n",
    "        metric.reset()\n",
    "        # updating epoch metrics\n",
    "        test_losses.append(test_loss / processed_batch)\n",
    "        test_metrics.append(test_metric / processed_batch)\n",
    "\n",
    "    return test_losses, test_metrics"
   ]
  },
  {
   "cell_type": "code",
   "execution_count": 164,
   "metadata": {},
   "outputs": [],
   "source": [
    "# driver setup----\n",
    "# optmizer\n",
    "optimizer = optim.Adam(inception_model.parameters(), lr=learning_rate)\n",
    "# loss\n",
    "criterion = nn.CrossEntropyLoss()\n",
    "# metric\n",
    "metric = MulticlassAccuracy(device=device, num_classes=10)\n",
    "# Early stopping\n",
    "early_stopping = EarlyStopping(\n",
    "    patience=5, verbose=True, model_name=\"inception_base_model.pt\"\n",
    ")"
   ]
  },
  {
   "cell_type": "code",
   "execution_count": 165,
   "metadata": {},
   "outputs": [
    {
     "name": "stdout",
     "output_type": "stream",
     "text": [
      "Epoch 0\n"
     ]
    },
    {
     "name": "stderr",
     "output_type": "stream",
     "text": [
      "  0%|                                                                                                                                                                                                                                                                                                                                                                                                                                                                                                                                                                                                                                                                                                                                                                                                                                                                                                                                                                                                           | 0/98 [00:00<?, ?it/s]/anaconda/envs/torch_env/lib/python3.10/multiprocessing/popen_fork.py:66: RuntimeWarning: os.fork() was called. os.fork() is incompatible with multithreaded code, and JAX is multithreaded, so this will likely lead to a deadlock.\n",
      "  self.pid = os.fork()\n",
      "Avg Train Loss: 1.898649906625553 Avg Train Metric: 0.18858002818056516: 100%|█████████████████████████████████████████████████████████████████████████████████████████████████████████████████████████████████████████████████████████████████████████████████████████████████████████████████████████████████████████████████████████████████████████████████████████████████████████████████████████████████████████████████████████████████████████████████████████████████████████████████████████████████████████████████████████████████████████████████████████████████████████████████████████████████████████████████████████████████████████████████████████████████████████████████████████████████████████████████████████████████████████████████████████████████████████████████████████████████████████████████████████████████████████████████████████████████████████████████████████████████████████████████████████████████████████████████████████████████████████████████████████| 98/98 [00:10<00:00,  9.60it/s]\n",
      "Avg Test Loss: 1.6637840628623963 Avg Test Metric: 0.32388083040714266: 100%|██████████████████████████████████████████████████████████████████████████████████████████████████████████████████████████████████████████████████████████████████████████████████████████████████████████████████████████████████████████████████████████████████████████████████████████████████████████████████████████████████████████████████████████████████████████████████████████████████████████████████████████████████████████████████████████████████████████████████████████████████████████████████████████████████████████████████████████████████████████████████████████████████████████████████████████████████████████████████████████████████████████████████████████████████████████████████████████████████████████████████████████████████████████████████████████████████████████████████████████████████████████████████████████████████████████████████████████████████████████████████████████| 20/20 [00:00<00:00, 27.50it/s]\n"
     ]
    },
    {
     "name": "stdout",
     "output_type": "stream",
     "text": [
      "Validation loss decreased (inf --> 1.663784).  Saving model ...\n",
      "Epoch 1\n"
     ]
    },
    {
     "name": "stderr",
     "output_type": "stream",
     "text": [
      "Avg Train Loss: 1.5194581832204546 Avg Train Metric: 0.37151637430093726: 100%|████████████████████████████████████████████████████████████████████████████████████████████████████████████████████████████████████████████████████████████████████████████████████████████████████████████████████████████████████████████████████████████████████████████████████████████████████████████████████████████████████████████████████████████████████████████████████████████████████████████████████████████████████████████████████████████████████████████████████████████████████████████████████████████████████████████████████████████████████████████████████████████████████████████████████████████████████████████████████████████████████████████████████████████████████████████████████████████████████████████████████████████████████████████████████████████████████████████████████████████████████████████████████████████████████████████████████████████████████████████████████████| 98/98 [00:08<00:00, 12.12it/s]\n",
      "Avg Test Loss: 1.3008051216602325 Avg Test Metric: 0.5034911215305329: 100%|███████████████████████████████████████████████████████████████████████████████████████████████████████████████████████████████████████████████████████████████████████████████████████████████████████████████████████████████████████████████████████████████████████████████████████████████████████████████████████████████████████████████████████████████████████████████████████████████████████████████████████████████████████████████████████████████████████████████████████████████████████████████████████████████████████████████████████████████████████████████████████████████████████████████████████████████████████████████████████████████████████████████████████████████████████████████████████████████████████████████████████████████████████████████████████████████████████████████████████████████████████████████████████████████████████████████████████████████████████████████████████████| 20/20 [00:00<00:00, 29.87it/s]\n"
     ]
    },
    {
     "name": "stdout",
     "output_type": "stream",
     "text": [
      "Validation loss decreased (1.663784 --> 1.300805).  Saving model ...\n",
      "Epoch 2\n"
     ]
    },
    {
     "name": "stderr",
     "output_type": "stream",
     "text": [
      "Avg Train Loss: 1.284286424821737 Avg Train Metric: 0.506269034682488: 100%|███████████████████████████████████████████████████████████████████████████████████████████████████████████████████████████████████████████████████████████████████████████████████████████████████████████████████████████████████████████████████████████████████████████████████████████████████████████████████████████████████████████████████████████████████████████████████████████████████████████████████████████████████████████████████████████████████████████████████████████████████████████████████████████████████████████████████████████████████████████████████████████████████████████████████████████████████████████████████████████████████████████████████████████████████████████████████████████████████████████████████████████████████████████████████████████████████████████████████████████████████████████████████████████████████████████████████████████████████████████████████████████| 98/98 [00:07<00:00, 12.35it/s]\n",
      "Avg Test Loss: 1.1125284075736999 Avg Test Metric: 0.6073041170835495: 100%|███████████████████████████████████████████████████████████████████████████████████████████████████████████████████████████████████████████████████████████████████████████████████████████████████████████████████████████████████████████████████████████████████████████████████████████████████████████████████████████████████████████████████████████████████████████████████████████████████████████████████████████████████████████████████████████████████████████████████████████████████████████████████████████████████████████████████████████████████████████████████████████████████████████████████████████████████████████████████████████████████████████████████████████████████████████████████████████████████████████████████████████████████████████████████████████████████████████████████████████████████████████████████████████████████████████████████████████████████████████████████████████| 20/20 [00:00<00:00, 29.44it/s]\n"
     ]
    },
    {
     "name": "stdout",
     "output_type": "stream",
     "text": [
      "Validation loss decreased (1.300805 --> 1.112528).  Saving model ...\n",
      "Epoch 3\n"
     ]
    },
    {
     "name": "stderr",
     "output_type": "stream",
     "text": [
      "Avg Train Loss: 1.1459162119699984 Avg Train Metric: 0.5718905445264311: 100%|█████████████████████████████████████████████████████████████████████████████████████████████████████████████████████████████████████████████████████████████████████████████████████████████████████████████████████████████████████████████████████████████████████████████████████████████████████████████████████████████████████████████████████████████████████████████████████████████████████████████████████████████████████████████████████████████████████████████████████████████████████████████████████████████████████████████████████████████████████████████████████████████████████████████████████████████████████████████████████████████████████████████████████████████████████████████████████████████████████████████████████████████████████████████████████████████████████████████████████████████████████████████████████████████████████████████████████████████████████████████████████████| 98/98 [00:07<00:00, 12.27it/s]\n",
      "Avg Test Loss: 1.0676343947649003 Avg Test Metric: 0.6033874213695526: 100%|███████████████████████████████████████████████████████████████████████████████████████████████████████████████████████████████████████████████████████████████████████████████████████████████████████████████████████████████████████████████████████████████████████████████████████████████████████████████████████████████████████████████████████████████████████████████████████████████████████████████████████████████████████████████████████████████████████████████████████████████████████████████████████████████████████████████████████████████████████████████████████████████████████████████████████████████████████████████████████████████████████████████████████████████████████████████████████████████████████████████████████████████████████████████████████████████████████████████████████████████████████████████████████████████████████████████████████████████████████████████████████████| 20/20 [00:00<00:00, 33.46it/s]\n"
     ]
    },
    {
     "name": "stdout",
     "output_type": "stream",
     "text": [
      "Validation loss decreased (1.112528 --> 1.067634).  Saving model ...\n",
      "Epoch 4\n"
     ]
    },
    {
     "name": "stderr",
     "output_type": "stream",
     "text": [
      "Avg Train Loss: 1.0575547972503974 Avg Train Metric: 0.6139575808632131: 100%|█████████████████████████████████████████████████████████████████████████████████████████████████████████████████████████████████████████████████████████████████████████████████████████████████████████████████████████████████████████████████████████████████████████████████████████████████████████████████████████████████████████████████████████████████████████████████████████████████████████████████████████████████████████████████████████████████████████████████████████████████████████████████████████████████████████████████████████████████████████████████████████████████████████████████████████████████████████████████████████████████████████████████████████████████████████████████████████████████████████████████████████████████████████████████████████████████████████████████████████████████████████████████████████████████████████████████████████████████████████████████████████| 98/98 [00:08<00:00, 12.17it/s]\n",
      "Avg Test Loss: 0.9212318748235703 Avg Test Metric: 0.6813613802194596: 100%|███████████████████████████████████████████████████████████████████████████████████████████████████████████████████████████████████████████████████████████████████████████████████████████████████████████████████████████████████████████████████████████████████████████████████████████████████████████████████████████████████████████████████████████████████████████████████████████████████████████████████████████████████████████████████████████████████████████████████████████████████████████████████████████████████████████████████████████████████████████████████████████████████████████████████████████████████████████████████████████████████████████████████████████████████████████████████████████████████████████████████████████████████████████████████████████████████████████████████████████████████████████████████████████████████████████████████████████████████████████████████████████| 20/20 [00:00<00:00, 32.11it/s]\n"
     ]
    },
    {
     "name": "stdout",
     "output_type": "stream",
     "text": [
      "Validation loss decreased (1.067634 --> 0.921232).  Saving model ...\n",
      "Epoch 5\n"
     ]
    },
    {
     "name": "stderr",
     "output_type": "stream",
     "text": [
      "Avg Train Loss: 0.968736794530129 Avg Train Metric: 0.6539832870570981: 100%|██████████████████████████████████████████████████████████████████████████████████████████████████████████████████████████████████████████████████████████████████████████████████████████████████████████████████████████████████████████████████████████████████████████████████████████████████████████████████████████████████████████████████████████████████████████████████████████████████████████████████████████████████████████████████████████████████████████████████████████████████████████████████████████████████████████████████████████████████████████████████████████████████████████████████████████████████████████████████████████████████████████████████████████████████████████████████████████████████████████████████████████████████████████████████████████████████████████████████████████████████████████████████████████████████████████████████████████████████████████████████████████| 98/98 [00:07<00:00, 12.29it/s]\n",
      "Avg Test Loss: 0.8669550210237503 Avg Test Metric: 0.6959946423768997: 100%|███████████████████████████████████████████████████████████████████████████████████████████████████████████████████████████████████████████████████████████████████████████████████████████████████████████████████████████████████████████████████████████████████████████████████████████████████████████████████████████████████████████████████████████████████████████████████████████████████████████████████████████████████████████████████████████████████████████████████████████████████████████████████████████████████████████████████████████████████████████████████████████████████████████████████████████████████████████████████████████████████████████████████████████████████████████████████████████████████████████████████████████████████████████████████████████████████████████████████████████████████████████████████████████████████████████████████████████████████████████████████████████| 20/20 [00:00<00:00, 30.61it/s]\n"
     ]
    },
    {
     "name": "stdout",
     "output_type": "stream",
     "text": [
      "Validation loss decreased (0.921232 --> 0.866955).  Saving model ...\n",
      "Epoch 6\n"
     ]
    },
    {
     "name": "stderr",
     "output_type": "stream",
     "text": [
      "Avg Train Loss: 0.9117306032959296 Avg Train Metric: 0.6736276599825645: 100%|█████████████████████████████████████████████████████████████████████████████████████████████████████████████████████████████████████████████████████████████████████████████████████████████████████████████████████████████████████████████████████████████████████████████████████████████████████████████████████████████████████████████████████████████████████████████████████████████████████████████████████████████████████████████████████████████████████████████████████████████████████████████████████████████████████████████████████████████████████████████████████████████████████████████████████████████████████████████████████████████████████████████████████████████████████████████████████████████████████████████████████████████████████████████████████████████████████████████████████████████████████████████████████████████████████████████████████████████████████████████████████████| 98/98 [00:07<00:00, 12.26it/s]\n",
      "Avg Test Loss: 0.8499830842018128 Avg Test Metric: 0.704293492436409: 100%|████████████████████████████████████████████████████████████████████████████████████████████████████████████████████████████████████████████████████████████████████████████████████████████████████████████████████████████████████████████████████████████████████████████████████████████████████████████████████████████████████████████████████████████████████████████████████████████████████████████████████████████████████████████████████████████████████████████████████████████████████████████████████████████████████████████████████████████████████████████████████████████████████████████████████████████████████████████████████████████████████████████████████████████████████████████████████████████████████████████████████████████████████████████████████████████████████████████████████████████████████████████████████████████████████████████████████████████████████████████████████████████| 20/20 [00:00<00:00, 31.45it/s]\n"
     ]
    },
    {
     "name": "stdout",
     "output_type": "stream",
     "text": [
      "Validation loss decreased (0.866955 --> 0.849983).  Saving model ...\n",
      "Epoch 7\n"
     ]
    },
    {
     "name": "stderr",
     "output_type": "stream",
     "text": [
      "Avg Train Loss: 0.8785760725031093 Avg Train Metric: 0.6895438967918863: 100%|█████████████████████████████████████████████████████████████████████████████████████████████████████████████████████████████████████████████████████████████████████████████████████████████████████████████████████████████████████████████████████████████████████████████████████████████████████████████████████████████████████████████████████████████████████████████████████████████████████████████████████████████████████████████████████████████████████████████████████████████████████████████████████████████████████████████████████████████████████████████████████████████████████████████████████████████████████████████████████████████████████████████████████████████████████████████████████████████████████████████████████████████████████████████████████████████████████████████████████████████████████████████████████████████████████████████████████████████████████████████████████████| 98/98 [00:08<00:00, 12.11it/s]\n",
      "Avg Test Loss: 0.7885450601577759 Avg Test Metric: 0.7288528054952621: 100%|███████████████████████████████████████████████████████████████████████████████████████████████████████████████████████████████████████████████████████████████████████████████████████████████████████████████████████████████████████████████████████████████████████████████████████████████████████████████████████████████████████████████████████████████████████████████████████████████████████████████████████████████████████████████████████████████████████████████████████████████████████████████████████████████████████████████████████████████████████████████████████████████████████████████████████████████████████████████████████████████████████████████████████████████████████████████████████████████████████████████████████████████████████████████████████████████████████████████████████████████████████████████████████████████████████████████████████████████████████████████████████████| 20/20 [00:00<00:00, 30.95it/s]\n"
     ]
    },
    {
     "name": "stdout",
     "output_type": "stream",
     "text": [
      "Validation loss decreased (0.849983 --> 0.788545).  Saving model ...\n",
      "Epoch 8\n"
     ]
    },
    {
     "name": "stderr",
     "output_type": "stream",
     "text": [
      "Avg Train Loss: 0.8391573648063504 Avg Train Metric: 0.703136818749564: 100%|██████████████████████████████████████████████████████████████████████████████████████████████████████████████████████████████████████████████████████████████████████████████████████████████████████████████████████████████████████████████████████████████████████████████████████████████████████████████████████████████████████████████████████████████████████████████████████████████████████████████████████████████████████████████████████████████████████████████████████████████████████████████████████████████████████████████████████████████████████████████████████████████████████████████████████████████████████████████████████████████████████████████████████████████████████████████████████████████████████████████████████████████████████████████████████████████████████████████████████████████████████████████████████████████████████████████████████████████████████████████████████████| 98/98 [00:07<00:00, 12.36it/s]\n",
      "Avg Test Loss: 0.8196134507656098 Avg Test Metric: 0.7154965609312057: 100%|███████████████████████████████████████████████████████████████████████████████████████████████████████████████████████████████████████████████████████████████████████████████████████████████████████████████████████████████████████████████████████████████████████████████████████████████████████████████████████████████████████████████████████████████████████████████████████████████████████████████████████████████████████████████████████████████████████████████████████████████████████████████████████████████████████████████████████████████████████████████████████████████████████████████████████████████████████████████████████████████████████████████████████████████████████████████████████████████████████████████████████████████████████████████████████████████████████████████████████████████████████████████████████████████████████████████████████████████████████████████████████████| 20/20 [00:00<00:00, 31.62it/s]\n"
     ]
    },
    {
     "name": "stdout",
     "output_type": "stream",
     "text": [
      "EarlyStopping counter: 1 out of 5\n",
      "Epoch 9\n"
     ]
    },
    {
     "name": "stderr",
     "output_type": "stream",
     "text": [
      "Avg Train Loss: 0.8009203045952077 Avg Train Metric: 0.719602916921888: 100%|██████████████████████████████████████████████████████████████████████████████████████████████████████████████████████████████████████████████████████████████████████████████████████████████████████████████████████████████████████████████████████████████████████████████████████████████████████████████████████████████████████████████████████████████████████████████████████████████████████████████████████████████████████████████████████████████████████████████████████████████████████████████████████████████████████████████████████████████████████████████████████████████████████████████████████████████████████████████████████████████████████████████████████████████████████████████████████████████████████████████████████████████████████████████████████████████████████████████████████████████████████████████████████████████████████████████████████████████████████████████████████████| 98/98 [00:07<00:00, 12.30it/s]\n",
      "Avg Test Loss: 0.7695737153291702 Avg Test Metric: 0.7371861606836319: 100%|███████████████████████████████████████████████████████████████████████████████████████████████████████████████████████████████████████████████████████████████████████████████████████████████████████████████████████████████████████████████████████████████████████████████████████████████████████████████████████████████████████████████████████████████████████████████████████████████████████████████████████████████████████████████████████████████████████████████████████████████████████████████████████████████████████████████████████████████████████████████████████████████████████████████████████████████████████████████████████████████████████████████████████████████████████████████████████████████████████████████████████████████████████████████████████████████████████████████████████████████████████████████████████████████████████████████████████████████████████████████████████████| 20/20 [00:00<00:00, 32.20it/s]\n"
     ]
    },
    {
     "name": "stdout",
     "output_type": "stream",
     "text": [
      "Validation loss decreased (0.788545 --> 0.769574).  Saving model ...\n",
      "Epoch 10\n"
     ]
    },
    {
     "name": "stderr",
     "output_type": "stream",
     "text": [
      "Avg Train Loss: 0.7756387925877863 Avg Train Metric: 0.7306332630770547: 100%|█████████████████████████████████████████████████████████████████████████████████████████████████████████████████████████████████████████████████████████████████████████████████████████████████████████████████████████████████████████████████████████████████████████████████████████████████████████████████████████████████████████████████████████████████████████████████████████████████████████████████████████████████████████████████████████████████████████████████████████████████████████████████████████████████████████████████████████████████████████████████████████████████████████████████████████████████████████████████████████████████████████████████████████████████████████████████████████████████████████████████████████████████████████████████████████████████████████████████████████████████████████████████████████████████████████████████████████████████████████████████████████| 98/98 [00:07<00:00, 12.42it/s]\n",
      "Avg Test Loss: 0.7165999084711074 Avg Test Metric: 0.7617539584636688: 100%|███████████████████████████████████████████████████████████████████████████████████████████████████████████████████████████████████████████████████████████████████████████████████████████████████████████████████████████████████████████████████████████████████████████████████████████████████████████████████████████████████████████████████████████████████████████████████████████████████████████████████████████████████████████████████████████████████████████████████████████████████████████████████████████████████████████████████████████████████████████████████████████████████████████████████████████████████████████████████████████████████████████████████████████████████████████████████████████████████████████████████████████████████████████████████████████████████████████████████████████████████████████████████████████████████████████████████████████████████████████████████████████| 20/20 [00:00<00:00, 31.20it/s]\n"
     ]
    },
    {
     "name": "stdout",
     "output_type": "stream",
     "text": [
      "Validation loss decreased (0.769574 --> 0.716600).  Saving model ...\n",
      "Epoch 11\n"
     ]
    },
    {
     "name": "stderr",
     "output_type": "stream",
     "text": [
      "Avg Train Loss: 0.7460973171555266 Avg Train Metric: 0.7412993786286335: 100%|█████████████████████████████████████████████████████████████████████████████████████████████████████████████████████████████████████████████████████████████████████████████████████████████████████████████████████████████████████████████████████████████████████████████████████████████████████████████████████████████████████████████████████████████████████████████████████████████████████████████████████████████████████████████████████████████████████████████████████████████████████████████████████████████████████████████████████████████████████████████████████████████████████████████████████████████████████████████████████████████████████████████████████████████████████████████████████████████████████████████████████████████████████████████████████████████████████████████████████████████████████████████████████████████████████████████████████████████████████████████████████████| 98/98 [00:08<00:00, 11.94it/s]\n",
      "Avg Test Loss: 0.7731613934040069 Avg Test Metric: 0.7366279721260071: 100%|███████████████████████████████████████████████████████████████████████████████████████████████████████████████████████████████████████████████████████████████████████████████████████████████████████████████████████████████████████████████████████████████████████████████████████████████████████████████████████████████████████████████████████████████████████████████████████████████████████████████████████████████████████████████████████████████████████████████████████████████████████████████████████████████████████████████████████████████████████████████████████████████████████████████████████████████████████████████████████████████████████████████████████████████████████████████████████████████████████████████████████████████████████████████████████████████████████████████████████████████████████████████████████████████████████████████████████████████████████████████████████████| 20/20 [00:00<00:00, 28.93it/s]\n"
     ]
    },
    {
     "name": "stdout",
     "output_type": "stream",
     "text": [
      "EarlyStopping counter: 1 out of 5\n",
      "Epoch 12\n"
     ]
    },
    {
     "name": "stderr",
     "output_type": "stream",
     "text": [
      "Avg Train Loss: 0.7213530291099938 Avg Train Metric: 0.7453395651311291: 100%|█████████████████████████████████████████████████████████████████████████████████████████████████████████████████████████████████████████████████████████████████████████████████████████████████████████████████████████████████████████████████████████████████████████████████████████████████████████████████████████████████████████████████████████████████████████████████████████████████████████████████████████████████████████████████████████████████████████████████████████████████████████████████████████████████████████████████████████████████████████████████████████████████████████████████████████████████████████████████████████████████████████████████████████████████████████████████████████████████████████████████████████████████████████████████████████████████████████████████████████████████████████████████████████████████████████████████████████████████████████████████████████| 98/98 [00:07<00:00, 12.45it/s]\n",
      "Avg Test Loss: 0.6757448673248291 Avg Test Metric: 0.7725374132394791: 100%|███████████████████████████████████████████████████████████████████████████████████████████████████████████████████████████████████████████████████████████████████████████████████████████████████████████████████████████████████████████████████████████████████████████████████████████████████████████████████████████████████████████████████████████████████████████████████████████████████████████████████████████████████████████████████████████████████████████████████████████████████████████████████████████████████████████████████████████████████████████████████████████████████████████████████████████████████████████████████████████████████████████████████████████████████████████████████████████████████████████████████████████████████████████████████████████████████████████████████████████████████████████████████████████████████████████████████████████████████████████████████████████| 20/20 [00:00<00:00, 30.55it/s]\n"
     ]
    },
    {
     "name": "stdout",
     "output_type": "stream",
     "text": [
      "Validation loss decreased (0.716600 --> 0.675745).  Saving model ...\n",
      "Epoch 13\n"
     ]
    },
    {
     "name": "stderr",
     "output_type": "stream",
     "text": [
      "Avg Train Loss: 0.7159387919367576 Avg Train Metric: 0.7506873759688163: 100%|█████████████████████████████████████████████████████████████████████████████████████████████████████████████████████████████████████████████████████████████████████████████████████████████████████████████████████████████████████████████████████████████████████████████████████████████████████████████████████████████████████████████████████████████████████████████████████████████████████████████████████████████████████████████████████████████████████████████████████████████████████████████████████████████████████████████████████████████████████████████████████████████████████████████████████████████████████████████████████████████████████████████████████████████████████████████████████████████████████████████████████████████████████████████████████████████████████████████████████████████████████████████████████████████████████████████████████████████████████████████████████████| 98/98 [00:07<00:00, 12.35it/s]\n",
      "Avg Test Loss: 0.6629635125398636 Avg Test Metric: 0.7693675279617309: 100%|███████████████████████████████████████████████████████████████████████████████████████████████████████████████████████████████████████████████████████████████████████████████████████████████████████████████████████████████████████████████████████████████████████████████████████████████████████████████████████████████████████████████████████████████████████████████████████████████████████████████████████████████████████████████████████████████████████████████████████████████████████████████████████████████████████████████████████████████████████████████████████████████████████████████████████████████████████████████████████████████████████████████████████████████████████████████████████████████████████████████████████████████████████████████████████████████████████████████████████████████████████████████████████████████████████████████████████████████████████████████████████████| 20/20 [00:00<00:00, 32.74it/s]\n"
     ]
    },
    {
     "name": "stdout",
     "output_type": "stream",
     "text": [
      "Validation loss decreased (0.675745 --> 0.662964).  Saving model ...\n",
      "Epoch 14\n"
     ]
    },
    {
     "name": "stderr",
     "output_type": "stream",
     "text": [
      "Avg Train Loss: 0.6897733764989036 Avg Train Metric: 0.7594041191801733: 100%|█████████████████████████████████████████████████████████████████████████████████████████████████████████████████████████████████████████████████████████████████████████████████████████████████████████████████████████████████████████████████████████████████████████████████████████████████████████████████████████████████████████████████████████████████████████████████████████████████████████████████████████████████████████████████████████████████████████████████████████████████████████████████████████████████████████████████████████████████████████████████████████████████████████████████████████████████████████████████████████████████████████████████████████████████████████████████████████████████████████████████████████████████████████████████████████████████████████████████████████████████████████████████████████████████████████████████████████████████████████████████████████| 98/98 [00:08<00:00, 12.24it/s]\n",
      "Avg Test Loss: 0.663365313410759 Avg Test Metric: 0.7743561089038848: 100%|████████████████████████████████████████████████████████████████████████████████████████████████████████████████████████████████████████████████████████████████████████████████████████████████████████████████████████████████████████████████████████████████████████████████████████████████████████████████████████████████████████████████████████████████████████████████████████████████████████████████████████████████████████████████████████████████████████████████████████████████████████████████████████████████████████████████████████████████████████████████████████████████████████████████████████████████████████████████████████████████████████████████████████████████████████████████████████████████████████████████████████████████████████████████████████████████████████████████████████████████████████████████████████████████████████████████████████████████████████████████████████████| 20/20 [00:00<00:00, 32.92it/s]\n"
     ]
    },
    {
     "name": "stdout",
     "output_type": "stream",
     "text": [
      "EarlyStopping counter: 1 out of 5\n",
      "Epoch 15\n"
     ]
    },
    {
     "name": "stderr",
     "output_type": "stream",
     "text": [
      "Avg Train Loss: 0.6590408749726354 Avg Train Metric: 0.7664265954981044: 100%|█████████████████████████████████████████████████████████████████████████████████████████████████████████████████████████████████████████████████████████████████████████████████████████████████████████████████████████████████████████████████████████████████████████████████████████████████████████████████████████████████████████████████████████████████████████████████████████████████████████████████████████████████████████████████████████████████████████████████████████████████████████████████████████████████████████████████████████████████████████████████████████████████████████████████████████████████████████████████████████████████████████████████████████████████████████████████████████████████████████████████████████████████████████████████████████████████████████████████████████████████████████████████████████████████████████████████████████████████████████████████████████| 98/98 [00:07<00:00, 12.41it/s]\n",
      "Avg Test Loss: 0.7385188847780227 Avg Test Metric: 0.7518048197031021: 100%|███████████████████████████████████████████████████████████████████████████████████████████████████████████████████████████████████████████████████████████████████████████████████████████████████████████████████████████████████████████████████████████████████████████████████████████████████████████████████████████████████████████████████████████████████████████████████████████████████████████████████████████████████████████████████████████████████████████████████████████████████████████████████████████████████████████████████████████████████████████████████████████████████████████████████████████████████████████████████████████████████████████████████████████████████████████████████████████████████████████████████████████████████████████████████████████████████████████████████████████████████████████████████████████████████████████████████████████████████████████████████████████| 20/20 [00:00<00:00, 30.22it/s]\n"
     ]
    },
    {
     "name": "stdout",
     "output_type": "stream",
     "text": [
      "EarlyStopping counter: 2 out of 5\n",
      "Epoch 16\n"
     ]
    },
    {
     "name": "stderr",
     "output_type": "stream",
     "text": [
      "Avg Train Loss: 0.6540950409003666 Avg Train Metric: 0.7709570077000832: 100%|█████████████████████████████████████████████████████████████████████████████████████████████████████████████████████████████████████████████████████████████████████████████████████████████████████████████████████████████████████████████████████████████████████████████████████████████████████████████████████████████████████████████████████████████████████████████████████████████████████████████████████████████████████████████████████████████████████████████████████████████████████████████████████████████████████████████████████████████████████████████████████████████████████████████████████████████████████████████████████████████████████████████████████████████████████████████████████████████████████████████████████████████████████████████████████████████████████████████████████████████████████████████████████████████████████████████████████████████████████████████████████████| 98/98 [00:07<00:00, 12.41it/s]\n",
      "Avg Test Loss: 0.6865119934082031 Avg Test Metric: 0.7603169769048691: 100%|███████████████████████████████████████████████████████████████████████████████████████████████████████████████████████████████████████████████████████████████████████████████████████████████████████████████████████████████████████████████████████████████████████████████████████████████████████████████████████████████████████████████████████████████████████████████████████████████████████████████████████████████████████████████████████████████████████████████████████████████████████████████████████████████████████████████████████████████████████████████████████████████████████████████████████████████████████████████████████████████████████████████████████████████████████████████████████████████████████████████████████████████████████████████████████████████████████████████████████████████████████████████████████████████████████████████████████████████████████████████████████████| 20/20 [00:00<00:00, 26.23it/s]\n"
     ]
    },
    {
     "name": "stdout",
     "output_type": "stream",
     "text": [
      "EarlyStopping counter: 3 out of 5\n",
      "Epoch 17\n"
     ]
    },
    {
     "name": "stderr",
     "output_type": "stream",
     "text": [
      "Avg Train Loss: 0.6428710207038996 Avg Train Metric: 0.7818502881089036: 100%|█████████████████████████████████████████████████████████████████████████████████████████████████████████████████████████████████████████████████████████████████████████████████████████████████████████████████████████████████████████████████████████████████████████████████████████████████████████████████████████████████████████████████████████████████████████████████████████████████████████████████████████████████████████████████████████████████████████████████████████████████████████████████████████████████████████████████████████████████████████████████████████████████████████████████████████████████████████████████████████████████████████████████████████████████████████████████████████████████████████████████████████████████████████████████████████████████████████████████████████████████████████████████████████████████████████████████████████████████████████████████████████| 98/98 [00:07<00:00, 12.29it/s]\n",
      "Avg Test Loss: 0.662601900100708 Avg Test Metric: 0.7846644282341003: 100%|████████████████████████████████████████████████████████████████████████████████████████████████████████████████████████████████████████████████████████████████████████████████████████████████████████████████████████████████████████████████████████████████████████████████████████████████████████████████████████████████████████████████████████████████████████████████████████████████████████████████████████████████████████████████████████████████████████████████████████████████████████████████████████████████████████████████████████████████████████████████████████████████████████████████████████████████████████████████████████████████████████████████████████████████████████████████████████████████████████████████████████████████████████████████████████████████████████████████████████████████████████████████████████████████████████████████████████████████████████████████████████████| 20/20 [00:00<00:00, 29.83it/s]\n"
     ]
    },
    {
     "name": "stdout",
     "output_type": "stream",
     "text": [
      "Validation loss decreased (0.662964 --> 0.662602).  Saving model ...\n",
      "Epoch 18\n"
     ]
    },
    {
     "name": "stderr",
     "output_type": "stream",
     "text": [
      "Avg Train Loss: 0.6338322916809394 Avg Train Metric: 0.7775463826802312: 100%|█████████████████████████████████████████████████████████████████████████████████████████████████████████████████████████████████████████████████████████████████████████████████████████████████████████████████████████████████████████████████████████████████████████████████████████████████████████████████████████████████████████████████████████████████████████████████████████████████████████████████████████████████████████████████████████████████████████████████████████████████████████████████████████████████████████████████████████████████████████████████████████████████████████████████████████████████████████████████████████████████████████████████████████████████████████████████████████████████████████████████████████████████████████████████████████████████████████████████████████████████████████████████████████████████████████████████████████████████████████████████████████| 98/98 [00:07<00:00, 12.36it/s]\n",
      "Avg Test Loss: 0.630712342262268 Avg Test Metric: 0.7898379236459732: 100%|████████████████████████████████████████████████████████████████████████████████████████████████████████████████████████████████████████████████████████████████████████████████████████████████████████████████████████████████████████████████████████████████████████████████████████████████████████████████████████████████████████████████████████████████████████████████████████████████████████████████████████████████████████████████████████████████████████████████████████████████████████████████████████████████████████████████████████████████████████████████████████████████████████████████████████████████████████████████████████████████████████████████████████████████████████████████████████████████████████████████████████████████████████████████████████████████████████████████████████████████████████████████████████████████████████████████████████████████████████████████████████████| 20/20 [00:00<00:00, 31.87it/s]\n"
     ]
    },
    {
     "name": "stdout",
     "output_type": "stream",
     "text": [
      "Validation loss decreased (0.662602 --> 0.630712).  Saving model ...\n",
      "Epoch 19\n"
     ]
    },
    {
     "name": "stderr",
     "output_type": "stream",
     "text": [
      "Avg Train Loss: 0.6212165124562322 Avg Train Metric: 0.781014404126576: 100%|██████████████████████████████████████████████████████████████████████████████████████████████████████████████████████████████████████████████████████████████████████████████████████████████████████████████████████████████████████████████████████████████████████████████████████████████████████████████████████████████████████████████████████████████████████████████████████████████████████████████████████████████████████████████████████████████████████████████████████████████████████████████████████████████████████████████████████████████████████████████████████████████████████████████████████████████████████████████████████████████████████████████████████████████████████████████████████████████████████████████████████████████████████████████████████████████████████████████████████████████████████████████████████████████████████████████████████████████████████████████████████████| 98/98 [00:07<00:00, 12.42it/s]\n",
      "Avg Test Loss: 0.6790555775165558 Avg Test Metric: 0.767518675327301: 100%|████████████████████████████████████████████████████████████████████████████████████████████████████████████████████████████████████████████████████████████████████████████████████████████████████████████████████████████████████████████████████████████████████████████████████████████████████████████████████████████████████████████████████████████████████████████████████████████████████████████████████████████████████████████████████████████████████████████████████████████████████████████████████████████████████████████████████████████████████████████████████████████████████████████████████████████████████████████████████████████████████████████████████████████████████████████████████████████████████████████████████████████████████████████████████████████████████████████████████████████████████████████████████████████████████████████████████████████████████████████████████████████| 20/20 [00:00<00:00, 29.79it/s]\n"
     ]
    },
    {
     "name": "stdout",
     "output_type": "stream",
     "text": [
      "EarlyStopping counter: 1 out of 5\n",
      "Epoch 20\n"
     ]
    },
    {
     "name": "stderr",
     "output_type": "stream",
     "text": [
      "Avg Train Loss: 0.6041787838449284 Avg Train Metric: 0.7881618373248042: 100%|█████████████████████████████████████████████████████████████████████████████████████████████████████████████████████████████████████████████████████████████████████████████████████████████████████████████████████████████████████████████████████████████████████████████████████████████████████████████████████████████████████████████████████████████████████████████████████████████████████████████████████████████████████████████████████████████████████████████████████████████████████████████████████████████████████████████████████████████████████████████████████████████████████████████████████████████████████████████████████████████████████████████████████████████████████████████████████████████████████████████████████████████████████████████████████████████████████████████████████████████████████████████████████████████████████████████████████████████████████████████████████████| 98/98 [00:07<00:00, 12.26it/s]\n",
      "Avg Test Loss: 0.6162757754325867 Avg Test Metric: 0.7937059700489044: 100%|███████████████████████████████████████████████████████████████████████████████████████████████████████████████████████████████████████████████████████████████████████████████████████████████████████████████████████████████████████████████████████████████████████████████████████████████████████████████████████████████████████████████████████████████████████████████████████████████████████████████████████████████████████████████████████████████████████████████████████████████████████████████████████████████████████████████████████████████████████████████████████████████████████████████████████████████████████████████████████████████████████████████████████████████████████████████████████████████████████████████████████████████████████████████████████████████████████████████████████████████████████████████████████████████████████████████████████████████████████████████████████████| 20/20 [00:00<00:00, 29.83it/s]\n"
     ]
    },
    {
     "name": "stdout",
     "output_type": "stream",
     "text": [
      "Validation loss decreased (0.630712 --> 0.616276).  Saving model ...\n",
      "Epoch 21\n"
     ]
    },
    {
     "name": "stderr",
     "output_type": "stream",
     "text": [
      "Avg Train Loss: 0.5913909901769794 Avg Train Metric: 0.7985078284935075: 100%|█████████████████████████████████████████████████████████████████████████████████████████████████████████████████████████████████████████████████████████████████████████████████████████████████████████████████████████████████████████████████████████████████████████████████████████████████████████████████████████████████████████████████████████████████████████████████████████████████████████████████████████████████████████████████████████████████████████████████████████████████████████████████████████████████████████████████████████████████████████████████████████████████████████████████████████████████████████████████████████████████████████████████████████████████████████████████████████████████████████████████████████████████████████████████████████████████████████████████████████████████████████████████████████████████████████████████████████████████████████████████████████| 98/98 [00:07<00:00, 12.26it/s]\n",
      "Avg Test Loss: 0.596006840467453 Avg Test Metric: 0.7995410263538361: 100%|████████████████████████████████████████████████████████████████████████████████████████████████████████████████████████████████████████████████████████████████████████████████████████████████████████████████████████████████████████████████████████████████████████████████████████████████████████████████████████████████████████████████████████████████████████████████████████████████████████████████████████████████████████████████████████████████████████████████████████████████████████████████████████████████████████████████████████████████████████████████████████████████████████████████████████████████████████████████████████████████████████████████████████████████████████████████████████████████████████████████████████████████████████████████████████████████████████████████████████████████████████████████████████████████████████████████████████████████████████████████████████████| 20/20 [00:00<00:00, 33.04it/s]\n"
     ]
    },
    {
     "name": "stdout",
     "output_type": "stream",
     "text": [
      "Validation loss decreased (0.616276 --> 0.596007).  Saving model ...\n",
      "Epoch 22\n"
     ]
    },
    {
     "name": "stderr",
     "output_type": "stream",
     "text": [
      "Avg Train Loss: 0.5718126680169787 Avg Train Metric: 0.7976681535341301: 100%|█████████████████████████████████████████████████████████████████████████████████████████████████████████████████████████████████████████████████████████████████████████████████████████████████████████████████████████████████████████████████████████████████████████████████████████████████████████████████████████████████████████████████████████████████████████████████████████████████████████████████████████████████████████████████████████████████████████████████████████████████████████████████████████████████████████████████████████████████████████████████████████████████████████████████████████████████████████████████████████████████████████████████████████████████████████████████████████████████████████████████████████████████████████████████████████████████████████████████████████████████████████████████████████████████████████████████████████████████████████████████████████| 98/98 [00:07<00:00, 12.30it/s]\n",
      "Avg Test Loss: 0.5785733237862587 Avg Test Metric: 0.7997237086296082: 100%|███████████████████████████████████████████████████████████████████████████████████████████████████████████████████████████████████████████████████████████████████████████████████████████████████████████████████████████████████████████████████████████████████████████████████████████████████████████████████████████████████████████████████████████████████████████████████████████████████████████████████████████████████████████████████████████████████████████████████████████████████████████████████████████████████████████████████████████████████████████████████████████████████████████████████████████████████████████████████████████████████████████████████████████████████████████████████████████████████████████████████████████████████████████████████████████████████████████████████████████████████████████████████████████████████████████████████████████████████████████████████████████| 20/20 [00:00<00:00, 32.78it/s]\n"
     ]
    },
    {
     "name": "stdout",
     "output_type": "stream",
     "text": [
      "Validation loss decreased (0.596007 --> 0.578573).  Saving model ...\n",
      "Epoch 23\n"
     ]
    },
    {
     "name": "stderr",
     "output_type": "stream",
     "text": [
      "Avg Train Loss: 0.5770000605558863 Avg Train Metric: 0.8005803561940485: 100%|█████████████████████████████████████████████████████████████████████████████████████████████████████████████████████████████████████████████████████████████████████████████████████████████████████████████████████████████████████████████████████████████████████████████████████████████████████████████████████████████████████████████████████████████████████████████████████████████████████████████████████████████████████████████████████████████████████████████████████████████████████████████████████████████████████████████████████████████████████████████████████████████████████████████████████████████████████████████████████████████████████████████████████████████████████████████████████████████████████████████████████████████████████████████████████████████████████████████████████████████████████████████████████████████████████████████████████████████████████████████████████████| 98/98 [00:07<00:00, 12.32it/s]\n",
      "Avg Test Loss: 0.583851121366024 Avg Test Metric: 0.8024921327829361: 100%|████████████████████████████████████████████████████████████████████████████████████████████████████████████████████████████████████████████████████████████████████████████████████████████████████████████████████████████████████████████████████████████████████████████████████████████████████████████████████████████████████████████████████████████████████████████████████████████████████████████████████████████████████████████████████████████████████████████████████████████████████████████████████████████████████████████████████████████████████████████████████████████████████████████████████████████████████████████████████████████████████████████████████████████████████████████████████████████████████████████████████████████████████████████████████████████████████████████████████████████████████████████████████████████████████████████████████████████████████████████████████████████| 20/20 [00:00<00:00, 31.64it/s]\n"
     ]
    },
    {
     "name": "stdout",
     "output_type": "stream",
     "text": [
      "EarlyStopping counter: 1 out of 5\n",
      "Epoch 24\n"
     ]
    },
    {
     "name": "stderr",
     "output_type": "stream",
     "text": [
      "Avg Train Loss: 0.5604211770150126 Avg Train Metric: 0.8065512964920122: 100%|█████████████████████████████████████████████████████████████████████████████████████████████████████████████████████████████████████████████████████████████████████████████████████████████████████████████████████████████████████████████████████████████████████████████████████████████████████████████████████████████████████████████████████████████████████████████████████████████████████████████████████████████████████████████████████████████████████████████████████████████████████████████████████████████████████████████████████████████████████████████████████████████████████████████████████████████████████████████████████████████████████████████████████████████████████████████████████████████████████████████████████████████████████████████████████████████████████████████████████████████████████████████████████████████████████████████████████████████████████████████████████████| 98/98 [00:08<00:00, 12.15it/s]\n",
      "Avg Test Loss: 0.6132031783461571 Avg Test Metric: 0.798800042271614: 100%|████████████████████████████████████████████████████████████████████████████████████████████████████████████████████████████████████████████████████████████████████████████████████████████████████████████████████████████████████████████████████████████████████████████████████████████████████████████████████████████████████████████████████████████████████████████████████████████████████████████████████████████████████████████████████████████████████████████████████████████████████████████████████████████████████████████████████████████████████████████████████████████████████████████████████████████████████████████████████████████████████████████████████████████████████████████████████████████████████████████████████████████████████████████████████████████████████████████████████████████████████████████████████████████████████████████████████████████████████████████████████████████| 20/20 [00:00<00:00, 31.78it/s]"
     ]
    },
    {
     "name": "stdout",
     "output_type": "stream",
     "text": [
      "EarlyStopping counter: 2 out of 5\n"
     ]
    },
    {
     "name": "stderr",
     "output_type": "stream",
     "text": [
      "\n"
     ]
    }
   ],
   "source": [
    "train_losses = []\n",
    "train_metrics = []\n",
    "test_losses = []\n",
    "test_metrics = []\n",
    "\n",
    "for epoch in range(0, epochs):\n",
    "    print(f\"Epoch {epoch}\")\n",
    "    train_losses, train_metrics = train_module(\n",
    "        inception_model,\n",
    "        device,\n",
    "        train_loader,\n",
    "        optimizer,\n",
    "        criterion,\n",
    "        metric,\n",
    "        train_losses,\n",
    "        train_metrics,\n",
    "    )\n",
    "    test_losses, test_metrics = test_module(\n",
    "        inception_model,\n",
    "        device,\n",
    "        test_loader,\n",
    "        criterion,\n",
    "        metric,\n",
    "        test_losses,\n",
    "        test_metrics,\n",
    "    )\n",
    "\n",
    "    early_stopping(\n",
    "        test_losses[-1], inception_model, epoch\n",
    "    )  # last recorded test loss to measure the improvement against the prior one\n",
    "    if early_stopping.early_stop:\n",
    "        print(\"Early stopping\")\n",
    "        break"
   ]
  },
  {
   "cell_type": "code",
   "execution_count": null,
   "metadata": {},
   "outputs": [],
   "source": []
  },
  {
   "cell_type": "code",
   "execution_count": null,
   "metadata": {},
   "outputs": [],
   "source": []
  },
  {
   "cell_type": "code",
   "execution_count": null,
   "metadata": {},
   "outputs": [],
   "source": []
  }
 ],
 "metadata": {
  "kernelspec": {
   "display_name": "torch_env",
   "language": "python",
   "name": "python3"
  },
  "language_info": {
   "codemirror_mode": {
    "name": "ipython",
    "version": 3
   },
   "file_extension": ".py",
   "mimetype": "text/x-python",
   "name": "python",
   "nbconvert_exporter": "python",
   "pygments_lexer": "ipython3",
   "version": "3.10.12"
  }
 },
 "nbformat": 4,
 "nbformat_minor": 2
}
