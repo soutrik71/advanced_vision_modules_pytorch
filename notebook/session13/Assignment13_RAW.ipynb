{
 "cells": [
  {
   "cell_type": "markdown",
   "metadata": {},
   "source": [
    "The objective of this notebook is :\n",
    "- Convolution NN using Resnet Model\n",
    "- Application of Trainer using Pytorch Lightning \n",
    "- Misclassifications using GradCam visuals\n",
    "- Redesign the entire notebook based on the application of Lightning"
   ]
  },
  {
   "cell_type": "code",
   "execution_count": 1,
   "metadata": {},
   "outputs": [
    {
     "data": {
      "application/javascript": "IPython.notebook.set_autosave_interval(300000)"
     },
     "metadata": {},
     "output_type": "display_data"
    },
    {
     "name": "stdout",
     "output_type": "stream",
     "text": [
      "Autosaving every 300 seconds\n"
     ]
    }
   ],
   "source": [
    "%autosave 300\n",
    "%autoreload 2\n",
    "%reload_ext autoreload\n",
    "%config Completer.use_jedi = False"
   ]
  },
  {
   "cell_type": "code",
   "execution_count": 2,
   "metadata": {},
   "outputs": [
    {
     "name": "stdout",
     "output_type": "stream",
     "text": [
      "/mnt/batch/tasks/shared/LS_root/mounts/clusters/insights-model-run/code/Users/soutrik.chowdhury/advanced_vision_modules_pytorch\n"
     ]
    }
   ],
   "source": [
    "import os\n",
    "\n",
    "os.chdir(\n",
    "    \"/mnt/batch/tasks/shared/LS_root/mounts/clusters/insights-model-run/code/Users/soutrik.chowdhury/advanced_vision_modules_pytorch\"\n",
    ")\n",
    "print(os.getcwd())"
   ]
  },
  {
   "cell_type": "code",
   "execution_count": 3,
   "metadata": {},
   "outputs": [],
   "source": [
    "import torch\n",
    "import torch.nn as nn\n",
    "import torch.nn.functional as F\n",
    "import torch.optim as optim\n",
    "from torchvision import datasets, transforms\n",
    "import numpy as np\n",
    "import matplotlib.pyplot as plt\n",
    "import pandas as pd\n",
    "from torchinfo import summary\n",
    "from torchview import draw_graph\n",
    "import torchvision\n",
    "from src.utils import imshow\n",
    "import math\n",
    "from torch.utils.data import DataLoader\n",
    "import torchmetrics\n",
    "import lightning as L\n",
    "from torch.utils.data.dataset import random_split\n",
    "from lightning.pytorch.loggers import CSVLogger, TensorBoardLogger\n",
    "import pandas as pd\n",
    "import matplotlib.pyplot as plt\n",
    "from mlxtend.plotting import plot_confusion_matrix\n",
    "from torchmetrics import ConfusionMatrix\n",
    "from lightning.pytorch.callbacks import (\n",
    "    EarlyStopping,\n",
    "    DeviceStatsMonitor,\n",
    "    ModelCheckpoint,\n",
    ")\n",
    "from lightning.pytorch.tuner import Tuner\n",
    "from src.helper import set_seed, get_device\n",
    "from src.dataloader import get_data_loader"
   ]
  },
  {
   "cell_type": "code",
   "execution_count": 4,
   "metadata": {},
   "outputs": [
    {
     "name": "stdout",
     "output_type": "stream",
     "text": [
      "Random seed set as 71\n",
      "cuda\n"
     ]
    }
   ],
   "source": [
    "os.environ[\"CUDA_LAUNCH_BLOCKING\"] = \"1\"\n",
    "# Setting up basic training elements\n",
    "set_seed(71)\n",
    "device = get_device()\n",
    "print(device)\n",
    "epochs = 10\n",
    "learning_rate = 1e-2"
   ]
  },
  {
   "cell_type": "markdown",
   "metadata": {},
   "source": [
    "#### DATA PREP"
   ]
  },
  {
   "cell_type": "markdown",
   "metadata": {},
   "source": [
    "First lets visualize the raw data by downloading and converting into tensors only"
   ]
  },
  {
   "cell_type": "code",
   "execution_count": 5,
   "metadata": {},
   "outputs": [
    {
     "name": "stdout",
     "output_type": "stream",
     "text": [
      "Files already downloaded and verified\n",
      "Files already downloaded and verified\n"
     ]
    }
   ],
   "source": [
    "train = datasets.CIFAR10('./data', train=True, download=True, transform=transforms.ToTensor())\n",
    "test = datasets.CIFAR10('./data', train=False, download=True, transform=transforms.ToTensor())\n",
    "\n",
    "classes = ('plane', 'car', 'bird', 'cat', 'deer',\n",
    "           'dog', 'frog', 'horse', 'ship', 'truck')"
   ]
  },
  {
   "cell_type": "code",
   "execution_count": 6,
   "metadata": {},
   "outputs": [],
   "source": [
    "def get_data_characteristics(data, datatype=\"train\"):\n",
    "    \"\"\"\n",
    "    Get data characteristics\n",
    "    Args:\n",
    "    data (torch.utils.data.dataset.Dataset): Dataset object\n",
    "    datatype (str): train or test\n",
    "    \"\"\"\n",
    "    features = next(iter(data))[0]\n",
    "    print(f\"The data is [{datatype}]\")\n",
    "    print(f\"Total no of datapoints: {len(data)}\")\n",
    "    print(f\"The shape of the data: {features.shape}\")\n",
    "    print(f\"The mean accross all channels: {features.mean(dim=(1, 2))}\")\n",
    "    print(f\"The stdev accross all channels: {features.std(dim=(1, 2))}\")\n",
    "    print(f\"The min pixel value: {features.min()}\")\n",
    "    print(f\"The max pixel value: {features.max()}\")\n",
    "    print(\"\\n\")"
   ]
  },
  {
   "cell_type": "code",
   "execution_count": 7,
   "metadata": {},
   "outputs": [
    {
     "name": "stdout",
     "output_type": "stream",
     "text": [
      "The data is [Train Dataset]\n",
      "Total no of datapoints: 50000\n",
      "The shape of the data: torch.Size([3, 32, 32])\n",
      "The mean accross all channels: tensor([0.5537, 0.4122, 0.2511])\n",
      "The stdev accross all channels: tensor([0.1595, 0.1665, 0.1603])\n",
      "The min pixel value: 0.0\n",
      "The max pixel value: 1.0\n",
      "\n",
      "\n",
      "The data is [Test Dataset]\n",
      "Total no of datapoints: 10000\n",
      "The shape of the data: torch.Size([3, 32, 32])\n",
      "The mean accross all channels: tensor([0.4315, 0.4344, 0.4093])\n",
      "The stdev accross all channels: tensor([0.2062, 0.1429, 0.1927])\n",
      "The min pixel value: 0.05098039284348488\n",
      "The max pixel value: 1.0\n",
      "\n",
      "\n"
     ]
    }
   ],
   "source": [
    "get_data_characteristics(train, \"Train Dataset\")\n",
    "get_data_characteristics(test, \"Test Dataset\")"
   ]
  },
  {
   "cell_type": "code",
   "execution_count": 8,
   "metadata": {},
   "outputs": [],
   "source": [
    "def show_rawdata(data_set, number_of_samples):\n",
    "\n",
    "    if number_of_samples % 2 == 0:\n",
    "        batch_data = []\n",
    "        batch_label = []\n",
    "        for count, item in enumerate(data_set):\n",
    "            if not count < number_of_samples:\n",
    "                break\n",
    "            batch_data.append(item[0])\n",
    "            batch_label.append(item[1])\n",
    "\n",
    "        batch_data = torch.stack(batch_data, dim=0).numpy()\n",
    "\n",
    "        fix, axs = plt.subplots(\n",
    "            ncols=number_of_samples // 2, nrows=2, sharex=True, sharey=True\n",
    "        )\n",
    "        k, i = 0, 0\n",
    "        for img, label in list(zip(batch_data, batch_label)):\n",
    "            if i != 0 and i % (number_of_samples // 2) == 0:\n",
    "                k += 1\n",
    "                i = 0\n",
    "            axs[k, i].set_title(classes[label])\n",
    "            axs[k, i].imshow(\n",
    "                np.transpose(img.squeeze(), (1, 2, 0)),\n",
    "                interpolation=\"nearest\",\n",
    "            )\n",
    "            axs[k, i].set(xticklabels=[], yticklabels=[], xticks=[], yticks=[])\n",
    "            i += 1\n",
    "\n",
    "        plt.show()\n",
    "    else:\n",
    "        raise Exception(\"The number of samples should be divisible by 2\")"
   ]
  },
  {
   "cell_type": "code",
   "execution_count": 9,
   "metadata": {},
   "outputs": [
    {
     "data": {
      "text/plain": [
       "<Figure size 1800x1080 with 0 Axes>"
      ]
     },
     "metadata": {},
     "output_type": "display_data"
    },
    {
     "data": {
      "image/png": "[encoded data removed]",
      "text/plain": [
       "<Figure size 432x288 with 20 Axes>"
      ]
     },
     "metadata": {},
     "output_type": "display_data"
    }
   ],
   "source": [
    "plt.figure(figsize=(25, 15))\n",
    "show_rawdata(train, 20)"
   ]
  },
  {
   "cell_type": "markdown",
   "metadata": {},
   "source": [
    "Next we will create an custom dataset for Abulmenation package by subclassing datasets.CIFAR10"
   ]
  },
  {
   "cell_type": "code",
   "execution_count": 10,
   "metadata": {},
   "outputs": [],
   "source": [
    "# transform for the dataset using Compose from albumentations\n",
    "import albumentations as alb\n",
    "from albumentations.pytorch import ToTensorV2\n",
    "\n",
    "mean = (0.49139968, 0.48215827, 0.44653124)\n",
    "std = (0.24703233, 0.24348505, 0.26158768)\n",
    "\n",
    "\n",
    "def data_augmentations():\n",
    "    \"\"\"Data Augmentations for the CIFAR10 dataset\"\"\"\n",
    "    train_transforms = alb.Compose(\n",
    "        [\n",
    "            alb.PadIfNeeded(min_height=36, min_width=36, always_apply=True),\n",
    "            alb.RandomCrop(height=32, width=32, always_apply=True),\n",
    "            alb.HorizontalFlip(),\n",
    "            alb.CoarseDropout(\n",
    "                max_holes=1,\n",
    "                max_height=16,\n",
    "                max_width=16,\n",
    "                min_holes=1,\n",
    "                min_height=16,\n",
    "                min_width=16,\n",
    "                fill_value=tuple(x * 255 for x in mean),\n",
    "                mask_fill_value=None,\n",
    "            ),\n",
    "            alb.Normalize(mean=mean, std=std),\n",
    "            ToTensorV2(),\n",
    "        ]\n",
    "    )\n",
    "\n",
    "    test_transforms = alb.Compose(\n",
    "        [\n",
    "            alb.Normalize(mean=mean, std=std),\n",
    "            ToTensorV2(),\n",
    "        ]\n",
    "    )\n",
    "    return train_transforms, test_transforms"
   ]
  },
  {
   "cell_type": "code",
   "execution_count": null,
   "metadata": {},
   "outputs": [],
   "source": [
    "# train_transforms, test_transforms = data_augmentations()"
   ]
  },
  {
   "cell_type": "code",
   "execution_count": 11,
   "metadata": {},
   "outputs": [],
   "source": [
    "class AlbumentationsCifar10(datasets.CIFAR10):\n",
    "    def __init__(\n",
    "        self,\n",
    "        root: str,\n",
    "        train: bool = True,\n",
    "        transform=None,\n",
    "        target_transform=None,\n",
    "        download: bool = False,\n",
    "    ):\n",
    "        super(AlbumentationsCifar10, self).__init__(\n",
    "            root,\n",
    "            train=train,\n",
    "            transform=transform,\n",
    "            target_transform=target_transform,\n",
    "            download=download,\n",
    "        )\n",
    "        self.transform = transform\n",
    "\n",
    "    def __getitem__(self, index):\n",
    "        img, target = self.data[index], self.targets[index]\n",
    "        if self.transform is not None:\n",
    "            img = self.transform(image=img)[\"image\"]\n",
    "        return img, target"
   ]
  },
  {
   "cell_type": "code",
   "execution_count": null,
   "metadata": {},
   "outputs": [],
   "source": [
    "# train_dataset = AlbumentationsCifar10(\n",
    "#     root=\"./data\", train=True, download=False, transform=train_transforms\n",
    "# )"
   ]
  },
  {
   "cell_type": "code",
   "execution_count": null,
   "metadata": {},
   "outputs": [],
   "source": [
    "# get_data_characteristics(train_dataset, \"Train Dataset\")"
   ]
  },
  {
   "cell_type": "code",
   "execution_count": null,
   "metadata": {},
   "outputs": [],
   "source": [
    "# plt.figure(figsize=(25, 15))\n",
    "# show_raw_data(train_dataset, 20)"
   ]
  },
  {
   "cell_type": "code",
   "execution_count": 12,
   "metadata": {},
   "outputs": [],
   "source": [
    "class Cifar10DataModule(L.LightningDataModule):\n",
    "    def __init__(\n",
    "        self,\n",
    "        data_dir=\"./data\",\n",
    "        batch_size=128,\n",
    "        num_workers=0,\n",
    "    ):\n",
    "        super().__init__()\n",
    "        self.data_dir = data_dir\n",
    "        self.batch_size = batch_size\n",
    "        self.num_workers = num_workers\n",
    "        self.train_transforms, self.test_transforms = data_augmentations()\n",
    "\n",
    "    def prepare_data(self) -> None:\n",
    "        AlbumentationsCifar10(root=self.data_dir, train=True, download=True)\n",
    "        AlbumentationsCifar10(root=self.data_dir, train=False, download=True)\n",
    "\n",
    "    def setup(self, stage: str):\n",
    "        if stage == \"train\" or stage == \"fit\":\n",
    "            mnist_full = AlbumentationsCifar10(\n",
    "                root=self.data_dir, train=True, transform=self.train_transforms\n",
    "            )\n",
    "            self.mnist_train, self.mnist_val = random_split(\n",
    "                mnist_full, [0.7, 0.3], generator=torch.Generator().manual_seed(71)\n",
    "            )\n",
    "\n",
    "        elif stage == \"test\" or stage == \"predict\":\n",
    "            self.mnist_test = AlbumentationsCifar10(\n",
    "                root=self.data_dir, train=False, transform=self.test_transforms\n",
    "            )\n",
    "\n",
    "    def train_dataloader(self):\n",
    "        return DataLoader(\n",
    "            self.mnist_train,\n",
    "            batch_size=self.batch_size,\n",
    "            shuffle=True,\n",
    "            drop_last=False,\n",
    "            num_workers=self.num_workers,\n",
    "        )\n",
    "\n",
    "    def val_dataloader(self):\n",
    "        return DataLoader(\n",
    "            self.mnist_val,\n",
    "            batch_size=self.batch_size,\n",
    "            shuffle=False,\n",
    "            drop_last=False,\n",
    "            num_workers=self.num_workers,\n",
    "        )\n",
    "\n",
    "    def test_dataloader(self):\n",
    "        return DataLoader(\n",
    "            self.mnist_test,\n",
    "            batch_size=self.batch_size,\n",
    "            shuffle=False,\n",
    "            drop_last=False,\n",
    "            num_workers=self.num_workers,\n",
    "        )\n",
    "\n",
    "    def predict_dataloader(self):\n",
    "        return DataLoader(\n",
    "            self.mnist_test,\n",
    "            batch_size=self.batch_size,\n",
    "            shuffle=False,\n",
    "            drop_last=False,\n",
    "            num_workers=self.num_workers,\n",
    "        )\n",
    "\n",
    "    def teardown(self, stage: str):\n",
    "        # Used to clean-up when the run is finished\n",
    "        ..."
   ]
  },
  {
   "cell_type": "code",
   "execution_count": 13,
   "metadata": {},
   "outputs": [
    {
     "name": "stdout",
     "output_type": "stream",
     "text": [
      "Files already downloaded and verified\n",
      "Files already downloaded and verified\n",
      "torch.Size([128, 3, 32, 32])\n",
      "torch.Size([128])\n",
      "tensor(-0.0388)\n",
      "tensor(0.9474)\n",
      "torch.Size([128, 3, 32, 32])\n",
      "torch.Size([128])\n",
      "tensor(-0.0032)\n",
      "tensor(0.9450)\n"
     ]
    }
   ],
   "source": [
    "dm = Cifar10DataModule()\n",
    "dm.prepare_data()\n",
    "\n",
    "# splits/transforms\n",
    "dm.setup(stage=\"fit\")\n",
    "\n",
    "# use data\n",
    "for batch in dm.train_dataloader():\n",
    "    x, y = batch\n",
    "    print(x.shape)\n",
    "    print(y.shape)\n",
    "    print(x.mean())\n",
    "    print(x.std())\n",
    "    break\n",
    "\n",
    "for batch in dm.val_dataloader():\n",
    "    x, y = batch\n",
    "    print(x.shape)\n",
    "    print(y.shape)\n",
    "    print(x.mean())\n",
    "    print(x.std())\n",
    "    break\n",
    "\n",
    "dm.teardown(stage=\"fit\")"
   ]
  },
  {
   "cell_type": "code",
   "execution_count": null,
   "metadata": {},
   "outputs": [],
   "source": [
    "# # get dataloader for data batching\n",
    "# dataloader_args = (\n",
    "#     dict(shuffle=True, batch_size=128, num_workers=4, pin_memory=True)\n",
    "#     if device.type == \"cuda\"\n",
    "#     else dict(shuffle=True, batch_size=128)\n",
    "# )\n",
    "\n",
    "# # get train and test transformations\n",
    "# train_transforms, test_transforms = data_augmentations()\n",
    "\n",
    "# # batch loading\n",
    "# train_dataset, train_loader, test_dataset, test_loader = get_data_loader(\n",
    "#     train, test, train_transforms, test_transforms, dataloader_args\n",
    "# )"
   ]
  },
  {
   "cell_type": "code",
   "execution_count": 14,
   "metadata": {},
   "outputs": [],
   "source": [
    "# for images, labels in train_loader:\n",
    "#     print(images.shape)\n",
    "#     print(labels.shape)\n",
    "#     print(images.mean())\n",
    "#     print(images.std())\n",
    "#     break"
   ]
  },
  {
   "cell_type": "code",
   "execution_count": 16,
   "metadata": {},
   "outputs": [],
   "source": [
    "def show_batchdata(batch, samples):\n",
    "    if samples % 10 == 0:\n",
    "        plt.figure(figsize=(25, 15))\n",
    "        imshow(torchvision.utils.make_grid(batch[:samples], nrow=(samples // 5)))\n",
    "        plt.show()\n",
    "    else:\n",
    "        raise Exception(\"The number of samples should be divisible by 5\")"
   ]
  },
  {
   "cell_type": "code",
   "execution_count": 17,
   "metadata": {},
   "outputs": [
    {
     "name": "stderr",
     "output_type": "stream",
     "text": [
      "Clipping input data to the valid range for imshow with RGB data ([0..1] for floats or [0..255] for integers).\n"
     ]
    },
    {
     "data": {
      "image/png": "[encoded data removed]",
      "text/plain": [
       "<Figure size 1800x1080 with 1 Axes>"
      ]
     },
     "metadata": {
      "needs_background": "light"
     },
     "output_type": "display_data"
    }
   ],
   "source": [
    "show_batchdata(x,20)"
   ]
  },
  {
   "cell_type": "markdown",
   "metadata": {},
   "source": [
    "#### MODEL BUILDING"
   ]
  },
  {
   "cell_type": "code",
   "execution_count": 18,
   "metadata": {},
   "outputs": [],
   "source": [
    "from src.paper_nets.resnet import ResNetX"
   ]
  },
  {
   "cell_type": "code",
   "execution_count": 19,
   "metadata": {},
   "outputs": [],
   "source": [
    "model_parameters = {}\n",
    "model_parameters[\"resnet18\"] = ([64, 128, 256, 512], [2, 2, 2, 2], 1, False)\n",
    "model_parameters[\"resnet34\"] = ([64, 128, 256, 512], [3, 4, 6, 3], 1, False)\n",
    "model_parameters[\"resnet50\"] = ([64, 128, 256, 512], [3, 4, 6, 3], 4, True)\n",
    "model_parameters[\"resnet101\"] = ([64, 128, 256, 512], [3, 4, 23, 3], 4, True)\n",
    "model_parameters[\"resnet152\"] = ([64, 128, 256, 512], [3, 8, 36, 3], 4, True)"
   ]
  },
  {
   "cell_type": "code",
   "execution_count": 20,
   "metadata": {},
   "outputs": [
    {
     "name": "stdout",
     "output_type": "stream",
     "text": [
      "ResNetX(\n",
      "  (prep_layer): ResnetPrepBlock(\n",
      "    (conv1): Conv2d(3, 64, kernel_size=(7, 7), stride=(2, 2), padding=(3, 3), bias=False)\n",
      "    (bn): BatchNorm2d(64, eps=1e-05, momentum=0.1, affine=True, track_running_stats=True)\n",
      "    (pooling): MaxPool2d(kernel_size=3, stride=2, padding=1, dilation=1, ceil_mode=False)\n",
      "    (relu): ReLU()\n",
      "  )\n",
      "  (layer1): Sequential(\n",
      "    (0): ResnetBasicBlock(\n",
      "      (conv1): Conv2d(64, 64, kernel_size=(3, 3), stride=(1, 1), padding=(1, 1), bias=False)\n",
      "      (bn1): BatchNorm2d(64, eps=1e-05, momentum=0.1, affine=True, track_running_stats=True)\n",
      "      (conv2): Conv2d(64, 64, kernel_size=(3, 3), stride=(1, 1), padding=(1, 1), bias=False)\n",
      "      (bn2): BatchNorm2d(64, eps=1e-05, momentum=0.1, affine=True, track_running_stats=True)\n",
      "      (relu): ReLU(inplace=True)\n",
      "    )\n",
      "    (1): ResnetBasicBlock(\n",
      "      (conv1): Conv2d(64, 64, kernel_size=(3, 3), stride=(1, 1), padding=(1, 1), bias=False)\n",
      "      (bn1): BatchNorm2d(64, eps=1e-05, momentum=0.1, affine=True, track_running_stats=True)\n",
      "      (conv2): Conv2d(64, 64, kernel_size=(3, 3), stride=(1, 1), padding=(1, 1), bias=False)\n",
      "      (bn2): BatchNorm2d(64, eps=1e-05, momentum=0.1, affine=True, track_running_stats=True)\n",
      "      (relu): ReLU(inplace=True)\n",
      "    )\n",
      "    (2): ResnetBasicBlock(\n",
      "      (conv1): Conv2d(64, 64, kernel_size=(3, 3), stride=(1, 1), padding=(1, 1), bias=False)\n",
      "      (bn1): BatchNorm2d(64, eps=1e-05, momentum=0.1, affine=True, track_running_stats=True)\n",
      "      (conv2): Conv2d(64, 64, kernel_size=(3, 3), stride=(1, 1), padding=(1, 1), bias=False)\n",
      "      (bn2): BatchNorm2d(64, eps=1e-05, momentum=0.1, affine=True, track_running_stats=True)\n",
      "      (relu): ReLU(inplace=True)\n",
      "    )\n",
      "  )\n",
      "  (layer2): Sequential(\n",
      "    (0): ResnetBasicBlock(\n",
      "      (downsample): Sequential(\n",
      "        (0): Conv2d(64, 128, kernel_size=(1, 1), stride=(2, 2), bias=False)\n",
      "        (1): BatchNorm2d(128, eps=1e-05, momentum=0.1, affine=True, track_running_stats=True)\n",
      "      )\n",
      "      (conv1): Conv2d(64, 128, kernel_size=(3, 3), stride=(2, 2), padding=(1, 1), bias=False)\n",
      "      (bn1): BatchNorm2d(128, eps=1e-05, momentum=0.1, affine=True, track_running_stats=True)\n",
      "      (conv2): Conv2d(128, 128, kernel_size=(3, 3), stride=(1, 1), padding=(1, 1), bias=False)\n",
      "      (bn2): BatchNorm2d(128, eps=1e-05, momentum=0.1, affine=True, track_running_stats=True)\n",
      "      (relu): ReLU(inplace=True)\n",
      "    )\n",
      "    (1): ResnetBasicBlock(\n",
      "      (conv1): Conv2d(128, 128, kernel_size=(3, 3), stride=(1, 1), padding=(1, 1), bias=False)\n",
      "      (bn1): BatchNorm2d(128, eps=1e-05, momentum=0.1, affine=True, track_running_stats=True)\n",
      "      (conv2): Conv2d(128, 128, kernel_size=(3, 3), stride=(1, 1), padding=(1, 1), bias=False)\n",
      "      (bn2): BatchNorm2d(128, eps=1e-05, momentum=0.1, affine=True, track_running_stats=True)\n",
      "      (relu): ReLU(inplace=True)\n",
      "    )\n",
      "    (2): ResnetBasicBlock(\n",
      "      (conv1): Conv2d(128, 128, kernel_size=(3, 3), stride=(1, 1), padding=(1, 1), bias=False)\n",
      "      (bn1): BatchNorm2d(128, eps=1e-05, momentum=0.1, affine=True, track_running_stats=True)\n",
      "      (conv2): Conv2d(128, 128, kernel_size=(3, 3), stride=(1, 1), padding=(1, 1), bias=False)\n",
      "      (bn2): BatchNorm2d(128, eps=1e-05, momentum=0.1, affine=True, track_running_stats=True)\n",
      "      (relu): ReLU(inplace=True)\n",
      "    )\n",
      "    (3): ResnetBasicBlock(\n",
      "      (conv1): Conv2d(128, 128, kernel_size=(3, 3), stride=(1, 1), padding=(1, 1), bias=False)\n",
      "      (bn1): BatchNorm2d(128, eps=1e-05, momentum=0.1, affine=True, track_running_stats=True)\n",
      "      (conv2): Conv2d(128, 128, kernel_size=(3, 3), stride=(1, 1), padding=(1, 1), bias=False)\n",
      "      (bn2): BatchNorm2d(128, eps=1e-05, momentum=0.1, affine=True, track_running_stats=True)\n",
      "      (relu): ReLU(inplace=True)\n",
      "    )\n",
      "  )\n",
      "  (layer3): Sequential(\n",
      "    (0): ResnetBasicBlock(\n",
      "      (downsample): Sequential(\n",
      "        (0): Conv2d(128, 256, kernel_size=(1, 1), stride=(2, 2), bias=False)\n",
      "        (1): BatchNorm2d(256, eps=1e-05, momentum=0.1, affine=True, track_running_stats=True)\n",
      "      )\n",
      "      (conv1): Conv2d(128, 256, kernel_size=(3, 3), stride=(2, 2), padding=(1, 1), bias=False)\n",
      "      (bn1): BatchNorm2d(256, eps=1e-05, momentum=0.1, affine=True, track_running_stats=True)\n",
      "      (conv2): Conv2d(256, 256, kernel_size=(3, 3), stride=(1, 1), padding=(1, 1), bias=False)\n",
      "      (bn2): BatchNorm2d(256, eps=1e-05, momentum=0.1, affine=True, track_running_stats=True)\n",
      "      (relu): ReLU(inplace=True)\n",
      "    )\n",
      "    (1): ResnetBasicBlock(\n",
      "      (conv1): Conv2d(256, 256, kernel_size=(3, 3), stride=(1, 1), padding=(1, 1), bias=False)\n",
      "      (bn1): BatchNorm2d(256, eps=1e-05, momentum=0.1, affine=True, track_running_stats=True)\n",
      "      (conv2): Conv2d(256, 256, kernel_size=(3, 3), stride=(1, 1), padding=(1, 1), bias=False)\n",
      "      (bn2): BatchNorm2d(256, eps=1e-05, momentum=0.1, affine=True, track_running_stats=True)\n",
      "      (relu): ReLU(inplace=True)\n",
      "    )\n",
      "    (2): ResnetBasicBlock(\n",
      "      (conv1): Conv2d(256, 256, kernel_size=(3, 3), stride=(1, 1), padding=(1, 1), bias=False)\n",
      "      (bn1): BatchNorm2d(256, eps=1e-05, momentum=0.1, affine=True, track_running_stats=True)\n",
      "      (conv2): Conv2d(256, 256, kernel_size=(3, 3), stride=(1, 1), padding=(1, 1), bias=False)\n",
      "      (bn2): BatchNorm2d(256, eps=1e-05, momentum=0.1, affine=True, track_running_stats=True)\n",
      "      (relu): ReLU(inplace=True)\n",
      "    )\n",
      "    (3): ResnetBasicBlock(\n",
      "      (conv1): Conv2d(256, 256, kernel_size=(3, 3), stride=(1, 1), padding=(1, 1), bias=False)\n",
      "      (bn1): BatchNorm2d(256, eps=1e-05, momentum=0.1, affine=True, track_running_stats=True)\n",
      "      (conv2): Conv2d(256, 256, kernel_size=(3, 3), stride=(1, 1), padding=(1, 1), bias=False)\n",
      "      (bn2): BatchNorm2d(256, eps=1e-05, momentum=0.1, affine=True, track_running_stats=True)\n",
      "      (relu): ReLU(inplace=True)\n",
      "    )\n",
      "    (4): ResnetBasicBlock(\n",
      "      (conv1): Conv2d(256, 256, kernel_size=(3, 3), stride=(1, 1), padding=(1, 1), bias=False)\n",
      "      (bn1): BatchNorm2d(256, eps=1e-05, momentum=0.1, affine=True, track_running_stats=True)\n",
      "      (conv2): Conv2d(256, 256, kernel_size=(3, 3), stride=(1, 1), padding=(1, 1), bias=False)\n",
      "      (bn2): BatchNorm2d(256, eps=1e-05, momentum=0.1, affine=True, track_running_stats=True)\n",
      "      (relu): ReLU(inplace=True)\n",
      "    )\n",
      "    (5): ResnetBasicBlock(\n",
      "      (conv1): Conv2d(256, 256, kernel_size=(3, 3), stride=(1, 1), padding=(1, 1), bias=False)\n",
      "      (bn1): BatchNorm2d(256, eps=1e-05, momentum=0.1, affine=True, track_running_stats=True)\n",
      "      (conv2): Conv2d(256, 256, kernel_size=(3, 3), stride=(1, 1), padding=(1, 1), bias=False)\n",
      "      (bn2): BatchNorm2d(256, eps=1e-05, momentum=0.1, affine=True, track_running_stats=True)\n",
      "      (relu): ReLU(inplace=True)\n",
      "    )\n",
      "  )\n",
      "  (layer4): Sequential(\n",
      "    (0): ResnetBasicBlock(\n",
      "      (downsample): Sequential(\n",
      "        (0): Conv2d(256, 512, kernel_size=(1, 1), stride=(2, 2), bias=False)\n",
      "        (1): BatchNorm2d(512, eps=1e-05, momentum=0.1, affine=True, track_running_stats=True)\n",
      "      )\n",
      "      (conv1): Conv2d(256, 512, kernel_size=(3, 3), stride=(2, 2), padding=(1, 1), bias=False)\n",
      "      (bn1): BatchNorm2d(512, eps=1e-05, momentum=0.1, affine=True, track_running_stats=True)\n",
      "      (conv2): Conv2d(512, 512, kernel_size=(3, 3), stride=(1, 1), padding=(1, 1), bias=False)\n",
      "      (bn2): BatchNorm2d(512, eps=1e-05, momentum=0.1, affine=True, track_running_stats=True)\n",
      "      (relu): ReLU(inplace=True)\n",
      "    )\n",
      "    (1): ResnetBasicBlock(\n",
      "      (conv1): Conv2d(512, 512, kernel_size=(3, 3), stride=(1, 1), padding=(1, 1), bias=False)\n",
      "      (bn1): BatchNorm2d(512, eps=1e-05, momentum=0.1, affine=True, track_running_stats=True)\n",
      "      (conv2): Conv2d(512, 512, kernel_size=(3, 3), stride=(1, 1), padding=(1, 1), bias=False)\n",
      "      (bn2): BatchNorm2d(512, eps=1e-05, momentum=0.1, affine=True, track_running_stats=True)\n",
      "      (relu): ReLU(inplace=True)\n",
      "    )\n",
      "    (2): ResnetBasicBlock(\n",
      "      (conv1): Conv2d(512, 512, kernel_size=(3, 3), stride=(1, 1), padding=(1, 1), bias=False)\n",
      "      (bn1): BatchNorm2d(512, eps=1e-05, momentum=0.1, affine=True, track_running_stats=True)\n",
      "      (conv2): Conv2d(512, 512, kernel_size=(3, 3), stride=(1, 1), padding=(1, 1), bias=False)\n",
      "      (bn2): BatchNorm2d(512, eps=1e-05, momentum=0.1, affine=True, track_running_stats=True)\n",
      "      (relu): ReLU(inplace=True)\n",
      "    )\n",
      "  )\n",
      "  (classifier): Sequential(\n",
      "    (0): AdaptiveAvgPool2d(output_size=(1, 1))\n",
      "    (1): Flatten(start_dim=1, end_dim=-1)\n",
      "    (2): Linear(in_features=512, out_features=10, bias=True)\n",
      "  )\n",
      ")\n"
     ]
    }
   ],
   "source": [
    "resnet_model = ResNetX(\n",
    "    resnet_variant=model_parameters[\"resnet34\"], img_channels=3, num_classes=10\n",
    ").to(device)\n",
    "print(resnet_model)"
   ]
  },
  {
   "cell_type": "code",
   "execution_count": 21,
   "metadata": {},
   "outputs": [
    {
     "data": {
      "text/plain": [
       "==========================================================================================\n",
       "Layer (type:depth-idx)                   Output Shape              Param #\n",
       "==========================================================================================\n",
       "ResNetX                                  [1, 10]                   --\n",
       "├─ResnetPrepBlock: 1-1                   [1, 64, 8, 8]             --\n",
       "│    └─Conv2d: 2-1                       [1, 64, 16, 16]           9,408\n",
       "│    └─BatchNorm2d: 2-2                  [1, 64, 16, 16]           128\n",
       "│    └─ReLU: 2-3                         [1, 64, 16, 16]           --\n",
       "│    └─MaxPool2d: 2-4                    [1, 64, 8, 8]             --\n",
       "├─Sequential: 1-2                        [1, 64, 8, 8]             --\n",
       "│    └─ResnetBasicBlock: 2-5             [1, 64, 8, 8]             --\n",
       "│    │    └─Conv2d: 3-1                  [1, 64, 8, 8]             36,864\n",
       "│    │    └─BatchNorm2d: 3-2             [1, 64, 8, 8]             128\n",
       "│    │    └─ReLU: 3-3                    [1, 64, 8, 8]             --\n",
       "│    │    └─Conv2d: 3-4                  [1, 64, 8, 8]             36,864\n",
       "│    │    └─BatchNorm2d: 3-5             [1, 64, 8, 8]             128\n",
       "│    │    └─ReLU: 3-6                    [1, 64, 8, 8]             --\n",
       "│    └─ResnetBasicBlock: 2-6             [1, 64, 8, 8]             --\n",
       "│    │    └─Conv2d: 3-7                  [1, 64, 8, 8]             36,864\n",
       "│    │    └─BatchNorm2d: 3-8             [1, 64, 8, 8]             128\n",
       "│    │    └─ReLU: 3-9                    [1, 64, 8, 8]             --\n",
       "│    │    └─Conv2d: 3-10                 [1, 64, 8, 8]             36,864\n",
       "│    │    └─BatchNorm2d: 3-11            [1, 64, 8, 8]             128\n",
       "│    │    └─ReLU: 3-12                   [1, 64, 8, 8]             --\n",
       "│    └─ResnetBasicBlock: 2-7             [1, 64, 8, 8]             --\n",
       "│    │    └─Conv2d: 3-13                 [1, 64, 8, 8]             36,864\n",
       "│    │    └─BatchNorm2d: 3-14            [1, 64, 8, 8]             128\n",
       "│    │    └─ReLU: 3-15                   [1, 64, 8, 8]             --\n",
       "│    │    └─Conv2d: 3-16                 [1, 64, 8, 8]             36,864\n",
       "│    │    └─BatchNorm2d: 3-17            [1, 64, 8, 8]             128\n",
       "│    │    └─ReLU: 3-18                   [1, 64, 8, 8]             --\n",
       "├─Sequential: 1-3                        [1, 128, 4, 4]            --\n",
       "│    └─ResnetBasicBlock: 2-8             [1, 128, 4, 4]            --\n",
       "│    │    └─Conv2d: 3-19                 [1, 128, 4, 4]            73,728\n",
       "│    │    └─BatchNorm2d: 3-20            [1, 128, 4, 4]            256\n",
       "│    │    └─ReLU: 3-21                   [1, 128, 4, 4]            --\n",
       "│    │    └─Conv2d: 3-22                 [1, 128, 4, 4]            147,456\n",
       "│    │    └─BatchNorm2d: 3-23            [1, 128, 4, 4]            256\n",
       "│    │    └─Sequential: 3-24             [1, 128, 4, 4]            8,448\n",
       "│    │    └─ReLU: 3-25                   [1, 128, 4, 4]            --\n",
       "│    └─ResnetBasicBlock: 2-9             [1, 128, 4, 4]            --\n",
       "│    │    └─Conv2d: 3-26                 [1, 128, 4, 4]            147,456\n",
       "│    │    └─BatchNorm2d: 3-27            [1, 128, 4, 4]            256\n",
       "│    │    └─ReLU: 3-28                   [1, 128, 4, 4]            --\n",
       "│    │    └─Conv2d: 3-29                 [1, 128, 4, 4]            147,456\n",
       "│    │    └─BatchNorm2d: 3-30            [1, 128, 4, 4]            256\n",
       "│    │    └─ReLU: 3-31                   [1, 128, 4, 4]            --\n",
       "│    └─ResnetBasicBlock: 2-10            [1, 128, 4, 4]            --\n",
       "│    │    └─Conv2d: 3-32                 [1, 128, 4, 4]            147,456\n",
       "│    │    └─BatchNorm2d: 3-33            [1, 128, 4, 4]            256\n",
       "│    │    └─ReLU: 3-34                   [1, 128, 4, 4]            --\n",
       "│    │    └─Conv2d: 3-35                 [1, 128, 4, 4]            147,456\n",
       "│    │    └─BatchNorm2d: 3-36            [1, 128, 4, 4]            256\n",
       "│    │    └─ReLU: 3-37                   [1, 128, 4, 4]            --\n",
       "│    └─ResnetBasicBlock: 2-11            [1, 128, 4, 4]            --\n",
       "│    │    └─Conv2d: 3-38                 [1, 128, 4, 4]            147,456\n",
       "│    │    └─BatchNorm2d: 3-39            [1, 128, 4, 4]            256\n",
       "│    │    └─ReLU: 3-40                   [1, 128, 4, 4]            --\n",
       "│    │    └─Conv2d: 3-41                 [1, 128, 4, 4]            147,456\n",
       "│    │    └─BatchNorm2d: 3-42            [1, 128, 4, 4]            256\n",
       "│    │    └─ReLU: 3-43                   [1, 128, 4, 4]            --\n",
       "├─Sequential: 1-4                        [1, 256, 2, 2]            --\n",
       "│    └─ResnetBasicBlock: 2-12            [1, 256, 2, 2]            --\n",
       "│    │    └─Conv2d: 3-44                 [1, 256, 2, 2]            294,912\n",
       "│    │    └─BatchNorm2d: 3-45            [1, 256, 2, 2]            512\n",
       "│    │    └─ReLU: 3-46                   [1, 256, 2, 2]            --\n",
       "│    │    └─Conv2d: 3-47                 [1, 256, 2, 2]            589,824\n",
       "│    │    └─BatchNorm2d: 3-48            [1, 256, 2, 2]            512\n",
       "│    │    └─Sequential: 3-49             [1, 256, 2, 2]            33,280\n",
       "│    │    └─ReLU: 3-50                   [1, 256, 2, 2]            --\n",
       "│    └─ResnetBasicBlock: 2-13            [1, 256, 2, 2]            --\n",
       "│    │    └─Conv2d: 3-51                 [1, 256, 2, 2]            589,824\n",
       "│    │    └─BatchNorm2d: 3-52            [1, 256, 2, 2]            512\n",
       "│    │    └─ReLU: 3-53                   [1, 256, 2, 2]            --\n",
       "│    │    └─Conv2d: 3-54                 [1, 256, 2, 2]            589,824\n",
       "│    │    └─BatchNorm2d: 3-55            [1, 256, 2, 2]            512\n",
       "│    │    └─ReLU: 3-56                   [1, 256, 2, 2]            --\n",
       "│    └─ResnetBasicBlock: 2-14            [1, 256, 2, 2]            --\n",
       "│    │    └─Conv2d: 3-57                 [1, 256, 2, 2]            589,824\n",
       "│    │    └─BatchNorm2d: 3-58            [1, 256, 2, 2]            512\n",
       "│    │    └─ReLU: 3-59                   [1, 256, 2, 2]            --\n",
       "│    │    └─Conv2d: 3-60                 [1, 256, 2, 2]            589,824\n",
       "│    │    └─BatchNorm2d: 3-61            [1, 256, 2, 2]            512\n",
       "│    │    └─ReLU: 3-62                   [1, 256, 2, 2]            --\n",
       "│    └─ResnetBasicBlock: 2-15            [1, 256, 2, 2]            --\n",
       "│    │    └─Conv2d: 3-63                 [1, 256, 2, 2]            589,824\n",
       "│    │    └─BatchNorm2d: 3-64            [1, 256, 2, 2]            512\n",
       "│    │    └─ReLU: 3-65                   [1, 256, 2, 2]            --\n",
       "│    │    └─Conv2d: 3-66                 [1, 256, 2, 2]            589,824\n",
       "│    │    └─BatchNorm2d: 3-67            [1, 256, 2, 2]            512\n",
       "│    │    └─ReLU: 3-68                   [1, 256, 2, 2]            --\n",
       "│    └─ResnetBasicBlock: 2-16            [1, 256, 2, 2]            --\n",
       "│    │    └─Conv2d: 3-69                 [1, 256, 2, 2]            589,824\n",
       "│    │    └─BatchNorm2d: 3-70            [1, 256, 2, 2]            512\n",
       "│    │    └─ReLU: 3-71                   [1, 256, 2, 2]            --\n",
       "│    │    └─Conv2d: 3-72                 [1, 256, 2, 2]            589,824\n",
       "│    │    └─BatchNorm2d: 3-73            [1, 256, 2, 2]            512\n",
       "│    │    └─ReLU: 3-74                   [1, 256, 2, 2]            --\n",
       "│    └─ResnetBasicBlock: 2-17            [1, 256, 2, 2]            --\n",
       "│    │    └─Conv2d: 3-75                 [1, 256, 2, 2]            589,824\n",
       "│    │    └─BatchNorm2d: 3-76            [1, 256, 2, 2]            512\n",
       "│    │    └─ReLU: 3-77                   [1, 256, 2, 2]            --\n",
       "│    │    └─Conv2d: 3-78                 [1, 256, 2, 2]            589,824\n",
       "│    │    └─BatchNorm2d: 3-79            [1, 256, 2, 2]            512\n",
       "│    │    └─ReLU: 3-80                   [1, 256, 2, 2]            --\n",
       "├─Sequential: 1-5                        [1, 512, 1, 1]            --\n",
       "│    └─ResnetBasicBlock: 2-18            [1, 512, 1, 1]            --\n",
       "│    │    └─Conv2d: 3-81                 [1, 512, 1, 1]            1,179,648\n",
       "│    │    └─BatchNorm2d: 3-82            [1, 512, 1, 1]            1,024\n",
       "│    │    └─ReLU: 3-83                   [1, 512, 1, 1]            --\n",
       "│    │    └─Conv2d: 3-84                 [1, 512, 1, 1]            2,359,296\n",
       "│    │    └─BatchNorm2d: 3-85            [1, 512, 1, 1]            1,024\n",
       "│    │    └─Sequential: 3-86             [1, 512, 1, 1]            132,096\n",
       "│    │    └─ReLU: 3-87                   [1, 512, 1, 1]            --\n",
       "│    └─ResnetBasicBlock: 2-19            [1, 512, 1, 1]            --\n",
       "│    │    └─Conv2d: 3-88                 [1, 512, 1, 1]            2,359,296\n",
       "│    │    └─BatchNorm2d: 3-89            [1, 512, 1, 1]            1,024\n",
       "│    │    └─ReLU: 3-90                   [1, 512, 1, 1]            --\n",
       "│    │    └─Conv2d: 3-91                 [1, 512, 1, 1]            2,359,296\n",
       "│    │    └─BatchNorm2d: 3-92            [1, 512, 1, 1]            1,024\n",
       "│    │    └─ReLU: 3-93                   [1, 512, 1, 1]            --\n",
       "│    └─ResnetBasicBlock: 2-20            [1, 512, 1, 1]            --\n",
       "│    │    └─Conv2d: 3-94                 [1, 512, 1, 1]            2,359,296\n",
       "│    │    └─BatchNorm2d: 3-95            [1, 512, 1, 1]            1,024\n",
       "│    │    └─ReLU: 3-96                   [1, 512, 1, 1]            --\n",
       "│    │    └─Conv2d: 3-97                 [1, 512, 1, 1]            2,359,296\n",
       "│    │    └─BatchNorm2d: 3-98            [1, 512, 1, 1]            1,024\n",
       "│    │    └─ReLU: 3-99                   [1, 512, 1, 1]            --\n",
       "├─Sequential: 1-6                        [1, 10]                   --\n",
       "│    └─AdaptiveAvgPool2d: 2-21           [1, 512, 1, 1]            --\n",
       "│    └─Flatten: 2-22                     [1, 512]                  --\n",
       "│    └─Linear: 2-23                      [1, 10]                   5,130\n",
       "==========================================================================================\n",
       "Total params: 21,289,802\n",
       "Trainable params: 21,289,802\n",
       "Non-trainable params: 0\n",
       "Total mult-adds (M): 74.78\n",
       "==========================================================================================\n",
       "Input size (MB): 0.01\n",
       "Forward/backward pass size (MB): 1.22\n",
       "Params size (MB): 85.16\n",
       "Estimated Total Size (MB): 86.39\n",
       "=========================================================================================="
      ]
     },
     "execution_count": 21,
     "metadata": {},
     "output_type": "execute_result"
    }
   ],
   "source": [
    "summary(resnet_model, (1,3, 32,32))"
   ]
  },
  {
   "cell_type": "code",
   "execution_count": 42,
   "metadata": {},
   "outputs": [],
   "source": [
    "class Cifar10ModelLightning(L.LightningModule):\n",
    "    def __init__(self, model, learning_rate):\n",
    "        super(Cifar10ModelLightning, self).__init__()\n",
    "        self.model = model\n",
    "        self.learning_rate = learning_rate\n",
    "        self.criterion = torch.nn.CrossEntropyLoss()\n",
    "        self.train_acc = torchmetrics.Accuracy(task=\"multiclass\", num_classes=10)\n",
    "        self.test_acc = torchmetrics.Accuracy(task=\"multiclass\", num_classes=10)\n",
    "        self.save_hyperparameters(ignore=[\"model\"])\n",
    "\n",
    "    def forward(self, x: torch.Tensor):\n",
    "        \"\"\"\n",
    "        Forward computation of the model\n",
    "        \"\"\"\n",
    "        return self.model(x)\n",
    "\n",
    "    def _shared_step(self, batch):\n",
    "        \"\"\"\n",
    "        Shared step for training and validation\n",
    "        \"\"\"\n",
    "        features, label = batch\n",
    "        logits = self(features)\n",
    "        loss = self.criterion(logits, label)\n",
    "        predictions = torch.argmax(logits, dim=1)\n",
    "        return label, loss, predictions\n",
    "\n",
    "    def training_step(self, batch, batch_idx):\n",
    "        \"\"\"\n",
    "        Training Step loss and metric calculation\n",
    "        \"\"\"\n",
    "\n",
    "        label, loss, predictions = self._shared_step(batch)\n",
    "        self.log(name=\"train_loss\", value=loss, prog_bar=True)\n",
    "        # metric calculation\n",
    "        self.train_acc(predictions, label)\n",
    "        self.log(\n",
    "            name=\"train_acc\",\n",
    "            value=self.train_acc,\n",
    "            prog_bar=True,\n",
    "            on_epoch=True,\n",
    "            on_step=False,\n",
    "        )\n",
    "\n",
    "        return loss\n",
    "\n",
    "    def validation_step(self, batch, batch_idx):\n",
    "        \"\"\"\n",
    "        Validation Step loss and metric calculation\n",
    "        \"\"\"\n",
    "\n",
    "        label, loss, predictions = self._shared_step(batch)\n",
    "        self.log(name=\"val_loss\", value=loss, prog_bar=True)\n",
    "        # metric calculation\n",
    "        self.test_acc(predictions, label)\n",
    "        self.log(\n",
    "            name=\"val_acc\",\n",
    "            value=self.test_acc,\n",
    "            prog_bar=True,\n",
    "            on_epoch=True,\n",
    "            on_step=False,\n",
    "        )\n",
    "\n",
    "    def test_step(self, batch, batch_idx):\n",
    "        \"\"\"\n",
    "        Test step metric calculation\n",
    "        \"\"\"\n",
    "        label, loss, predictions = self._shared_step(batch)\n",
    "        # metric calculation\n",
    "        self.test_acc(predictions, label)\n",
    "        self.log(\n",
    "            name=\"test_acc\",\n",
    "            value=self.test_acc,\n",
    "            prog_bar=True,\n",
    "            on_epoch=True,\n",
    "            on_step=False,\n",
    "        )\n",
    "\n",
    "    def configure_optimizers(\n",
    "        self,\n",
    "    ):\n",
    "        \"\"\"\n",
    "        Optimizer config\n",
    "        \"\"\"\n",
    "        optimizer = torch.optim.Adam(\n",
    "            self.parameters(), lr=learning_rate, weight_decay=1e-4\n",
    "        )\n",
    "        return {\n",
    "            \"optimizer\": optimizer,\n",
    "        }"
   ]
  },
  {
   "cell_type": "markdown",
   "metadata": {},
   "source": [
    "Basic Model Testing"
   ]
  },
  {
   "cell_type": "code",
   "execution_count": 43,
   "metadata": {},
   "outputs": [],
   "source": [
    "# base pytorch model\n",
    "resnet_model = ResNetX(\n",
    "    resnet_variant=model_parameters[\"resnet34\"], img_channels=3, num_classes=10\n",
    ").to(device)\n",
    "\n",
    "# lightning wrapped model\n",
    "lightning_resnet = Cifar10ModelLightning(\n",
    "    model=resnet_model,\n",
    "    learning_rate=learning_rate,\n",
    ")\n",
    "\n",
    "# lightning dataloder\n",
    "dm = Cifar10DataModule()"
   ]
  },
  {
   "cell_type": "code",
   "execution_count": 44,
   "metadata": {},
   "outputs": [
    {
     "name": "stderr",
     "output_type": "stream",
     "text": [
      "GPU available: True (cuda), used: True\n",
      "TPU available: False, using: 0 TPU cores\n",
      "IPU available: False, using: 0 IPUs\n",
      "HPU available: False, using: 0 HPUs\n"
     ]
    }
   ],
   "source": [
    "# setting up the trainer module\n",
    "trainer = L.Trainer(\n",
    "    max_epochs=epochs,\n",
    "    accelerator=\"auto\",\n",
    "    devices=\"auto\",\n",
    "    enable_progress_bar=True,\n",
    "    enable_model_summary=True,\n",
    "    logger=CSVLogger(save_dir=\"./logs\", name=\"Mnist_exp\"),\n",
    ")"
   ]
  },
  {
   "cell_type": "code",
   "execution_count": 45,
   "metadata": {},
   "outputs": [
    {
     "name": "stdout",
     "output_type": "stream",
     "text": [
      "Files already downloaded and verified\n",
      "Files already downloaded and verified\n"
     ]
    },
    {
     "name": "stderr",
     "output_type": "stream",
     "text": [
      "LOCAL_RANK: 0 - CUDA_VISIBLE_DEVICES: [0]\n",
      "\n",
      "  | Name      | Type               | Params\n",
      "-------------------------------------------------\n",
      "0 | model     | ResNetX            | 21.3 M\n",
      "1 | criterion | CrossEntropyLoss   | 0     \n",
      "2 | train_acc | MulticlassAccuracy | 0     \n",
      "3 | test_acc  | MulticlassAccuracy | 0     \n",
      "-------------------------------------------------\n",
      "21.3 M    Trainable params\n",
      "0         Non-trainable params\n",
      "21.3 M    Total params\n",
      "85.159    Total estimated model params size (MB)\n"
     ]
    },
    {
     "data": {
      "application/vnd.jupyter.widget-view+json": {
       "model_id": "1faa5a4488f4491fa35ff32669e38f84",
       "version_major": 2,
       "version_minor": 0
      },
      "text/plain": [
       "Sanity Checking: |                                                                                            …"
      ]
     },
     "metadata": {},
     "output_type": "display_data"
    },
    {
     "name": "stderr",
     "output_type": "stream",
     "text": [
      "/anaconda/envs/torch_env/lib/python3.10/site-packages/lightning/pytorch/trainer/connectors/data_connector.py:441: The 'val_dataloader' does not have many workers which may be a bottleneck. Consider increasing the value of the `num_workers` argument` to `num_workers=5` in the `DataLoader` to improve performance.\n",
      "/anaconda/envs/torch_env/lib/python3.10/site-packages/lightning/pytorch/trainer/connectors/data_connector.py:441: The 'train_dataloader' does not have many workers which may be a bottleneck. Consider increasing the value of the `num_workers` argument` to `num_workers=5` in the `DataLoader` to improve performance.\n"
     ]
    },
    {
     "data": {
      "application/vnd.jupyter.widget-view+json": {
       "model_id": "028f7100964b4d21852b7c6167701873",
       "version_major": 2,
       "version_minor": 0
      },
      "text/plain": [
       "Training: |                                                                                                   …"
      ]
     },
     "metadata": {},
     "output_type": "display_data"
    },
    {
     "data": {
      "application/vnd.jupyter.widget-view+json": {
       "model_id": "f21a4075c0b44d5d9bc9a8a47ffe3c8f",
       "version_major": 2,
       "version_minor": 0
      },
      "text/plain": [
       "Validation: |                                                                                                 …"
      ]
     },
     "metadata": {},
     "output_type": "display_data"
    },
    {
     "data": {
      "application/vnd.jupyter.widget-view+json": {
       "model_id": "a840e681f5f545978fc5e45a7143dda2",
       "version_major": 2,
       "version_minor": 0
      },
      "text/plain": [
       "Validation: |                                                                                                 …"
      ]
     },
     "metadata": {},
     "output_type": "display_data"
    },
    {
     "data": {
      "application/vnd.jupyter.widget-view+json": {
       "model_id": "e53c449dba604310856cf89cd81b4f47",
       "version_major": 2,
       "version_minor": 0
      },
      "text/plain": [
       "Validation: |                                                                                                 …"
      ]
     },
     "metadata": {},
     "output_type": "display_data"
    },
    {
     "data": {
      "application/vnd.jupyter.widget-view+json": {
       "model_id": "5b29c00728ba4af88b862a4744955b3d",
       "version_major": 2,
       "version_minor": 0
      },
      "text/plain": [
       "Validation: |                                                                                                 …"
      ]
     },
     "metadata": {},
     "output_type": "display_data"
    },
    {
     "data": {
      "application/vnd.jupyter.widget-view+json": {
       "model_id": "5fafe72ae509473aa3b5a6f191af4522",
       "version_major": 2,
       "version_minor": 0
      },
      "text/plain": [
       "Validation: |                                                                                                 …"
      ]
     },
     "metadata": {},
     "output_type": "display_data"
    },
    {
     "data": {
      "application/vnd.jupyter.widget-view+json": {
       "model_id": "aeba502132d04181bd55e7378308b63f",
       "version_major": 2,
       "version_minor": 0
      },
      "text/plain": [
       "Validation: |                                                                                                 …"
      ]
     },
     "metadata": {},
     "output_type": "display_data"
    },
    {
     "data": {
      "application/vnd.jupyter.widget-view+json": {
       "model_id": "31ebed3fa2c34018b84a0861949d0f64",
       "version_major": 2,
       "version_minor": 0
      },
      "text/plain": [
       "Validation: |                                                                                                 …"
      ]
     },
     "metadata": {},
     "output_type": "display_data"
    },
    {
     "data": {
      "application/vnd.jupyter.widget-view+json": {
       "model_id": "fcd9cff406964b1e93b94e8016e3adbf",
       "version_major": 2,
       "version_minor": 0
      },
      "text/plain": [
       "Validation: |                                                                                                 …"
      ]
     },
     "metadata": {},
     "output_type": "display_data"
    },
    {
     "data": {
      "application/vnd.jupyter.widget-view+json": {
       "model_id": "d9f15f2a2eca4236b01ff6964f74123d",
       "version_major": 2,
       "version_minor": 0
      },
      "text/plain": [
       "Validation: |                                                                                                 …"
      ]
     },
     "metadata": {},
     "output_type": "display_data"
    },
    {
     "data": {
      "application/vnd.jupyter.widget-view+json": {
       "model_id": "0b7c66a225294c06918172ed295e4633",
       "version_major": 2,
       "version_minor": 0
      },
      "text/plain": [
       "Validation: |                                                                                                 …"
      ]
     },
     "metadata": {},
     "output_type": "display_data"
    },
    {
     "name": "stderr",
     "output_type": "stream",
     "text": [
      "`Trainer.fit` stopped: `max_epochs=10` reached.\n"
     ]
    }
   ],
   "source": [
    "# fitting the model with custom datamodule\n",
    "trainer.fit(model=lightning_resnet, datamodule=dm)"
   ]
  },
  {
   "cell_type": "code",
   "execution_count": 46,
   "metadata": {},
   "outputs": [
    {
     "name": "stderr",
     "output_type": "stream",
     "text": [
      "/anaconda/envs/torch_env/lib/python3.10/site-packages/lightning/pytorch/trainer/connectors/checkpoint_connector.py:145: `.validate(ckpt_path=None)` was called without a model. The best model of the previous `fit` call will be used. You can pass `.validate(ckpt_path='best')` to use the best model or `.validate(ckpt_path='last')` to use the last model. If you pass a value, this warning will be silenced.\n"
     ]
    },
    {
     "name": "stdout",
     "output_type": "stream",
     "text": [
      "Files already downloaded and verified\n",
      "Files already downloaded and verified\n"
     ]
    },
    {
     "name": "stderr",
     "output_type": "stream",
     "text": [
      "Restoring states from the checkpoint path at ./logs/Mnist_exp/version_32/checkpoints/epoch=9-step=2740.ckpt\n",
      "LOCAL_RANK: 0 - CUDA_VISIBLE_DEVICES: [0]\n",
      "Loaded model weights from the checkpoint at ./logs/Mnist_exp/version_32/checkpoints/epoch=9-step=2740.ckpt\n"
     ]
    },
    {
     "data": {
      "application/vnd.jupyter.widget-view+json": {
       "model_id": "f6ecc87d1f4746729a7252eccac88b5b",
       "version_major": 2,
       "version_minor": 0
      },
      "text/plain": [
       "Validation: |                                                                                                 …"
      ]
     },
     "metadata": {},
     "output_type": "display_data"
    },
    {
     "data": {
      "text/html": [
       "<pre style=\"white-space:pre;overflow-x:auto;line-height:normal;font-family:Menlo,'DejaVu Sans Mono',consolas,'Courier New',monospace\">┏━━━━━━━━━━━━━━━━━━━━━━━━━━━┳━━━━━━━━━━━━━━━━━━━━━━━━━━━┓\n",
       "┃<span style=\"font-weight: bold\">      Validate metric      </span>┃<span style=\"font-weight: bold\">       DataLoader 0        </span>┃\n",
       "┡━━━━━━━━━━━━━━━━━━━━━━━━━━━╇━━━━━━━━━━━━━━━━━━━━━━━━━━━┩\n",
       "│<span style=\"color: #008080; text-decoration-color: #008080\">          val_acc          </span>│<span style=\"color: #800080; text-decoration-color: #800080\">    0.6032666563987732     </span>│\n",
       "│<span style=\"color: #008080; text-decoration-color: #008080\">         val_loss          </span>│<span style=\"color: #800080; text-decoration-color: #800080\">     1.122902512550354     </span>│\n",
       "└───────────────────────────┴───────────────────────────┘\n",
       "</pre>\n"
      ],
      "text/plain": [
       "┏━━━━━━━━━━━━━━━━━━━━━━━━━━━┳━━━━━━━━━━━━━━━━━━━━━━━━━━━┓\n",
       "┃\u001b[1m \u001b[0m\u001b[1m     Validate metric     \u001b[0m\u001b[1m \u001b[0m┃\u001b[1m \u001b[0m\u001b[1m      DataLoader 0       \u001b[0m\u001b[1m \u001b[0m┃\n",
       "┡━━━━━━━━━━━━━━━━━━━━━━━━━━━╇━━━━━━━━━━━━━━━━━━━━━━━━━━━┩\n",
       "│\u001b[36m \u001b[0m\u001b[36m         val_acc         \u001b[0m\u001b[36m \u001b[0m│\u001b[35m \u001b[0m\u001b[35m   0.6032666563987732    \u001b[0m\u001b[35m \u001b[0m│\n",
       "│\u001b[36m \u001b[0m\u001b[36m        val_loss         \u001b[0m\u001b[36m \u001b[0m│\u001b[35m \u001b[0m\u001b[35m    1.122902512550354    \u001b[0m\u001b[35m \u001b[0m│\n",
       "└───────────────────────────┴───────────────────────────┘\n"
      ]
     },
     "metadata": {},
     "output_type": "display_data"
    },
    {
     "name": "stderr",
     "output_type": "stream",
     "text": [
      "/anaconda/envs/torch_env/lib/python3.10/site-packages/lightning/pytorch/trainer/connectors/checkpoint_connector.py:145: `.test(ckpt_path=None)` was called without a model. The best model of the previous `fit` call will be used. You can pass `.test(ckpt_path='best')` to use the best model or `.test(ckpt_path='last')` to use the last model. If you pass a value, this warning will be silenced.\n"
     ]
    },
    {
     "name": "stdout",
     "output_type": "stream",
     "text": [
      "Files already downloaded and verified\n",
      "Files already downloaded and verified\n"
     ]
    },
    {
     "name": "stderr",
     "output_type": "stream",
     "text": [
      "Restoring states from the checkpoint path at ./logs/Mnist_exp/version_32/checkpoints/epoch=9-step=2740.ckpt\n",
      "LOCAL_RANK: 0 - CUDA_VISIBLE_DEVICES: [0]\n",
      "Loaded model weights from the checkpoint at ./logs/Mnist_exp/version_32/checkpoints/epoch=9-step=2740.ckpt\n",
      "/anaconda/envs/torch_env/lib/python3.10/site-packages/lightning/pytorch/trainer/connectors/data_connector.py:441: The 'test_dataloader' does not have many workers which may be a bottleneck. Consider increasing the value of the `num_workers` argument` to `num_workers=5` in the `DataLoader` to improve performance.\n"
     ]
    },
    {
     "data": {
      "application/vnd.jupyter.widget-view+json": {
       "model_id": "919de97db6bc44c892fa0122e2a35da9",
       "version_major": 2,
       "version_minor": 0
      },
      "text/plain": [
       "Testing: |                                                                                                    …"
      ]
     },
     "metadata": {},
     "output_type": "display_data"
    },
    {
     "data": {
      "text/html": [
       "<pre style=\"white-space:pre;overflow-x:auto;line-height:normal;font-family:Menlo,'DejaVu Sans Mono',consolas,'Courier New',monospace\">┏━━━━━━━━━━━━━━━━━━━━━━━━━━━┳━━━━━━━━━━━━━━━━━━━━━━━━━━━┓\n",
       "┃<span style=\"font-weight: bold\">        Test metric        </span>┃<span style=\"font-weight: bold\">       DataLoader 0        </span>┃\n",
       "┡━━━━━━━━━━━━━━━━━━━━━━━━━━━╇━━━━━━━━━━━━━━━━━━━━━━━━━━━┩\n",
       "│<span style=\"color: #008080; text-decoration-color: #008080\">         test_acc          </span>│<span style=\"color: #800080; text-decoration-color: #800080\">    0.6593999862670898     </span>│\n",
       "└───────────────────────────┴───────────────────────────┘\n",
       "</pre>\n"
      ],
      "text/plain": [
       "┏━━━━━━━━━━━━━━━━━━━━━━━━━━━┳━━━━━━━━━━━━━━━━━━━━━━━━━━━┓\n",
       "┃\u001b[1m \u001b[0m\u001b[1m       Test metric       \u001b[0m\u001b[1m \u001b[0m┃\u001b[1m \u001b[0m\u001b[1m      DataLoader 0       \u001b[0m\u001b[1m \u001b[0m┃\n",
       "┡━━━━━━━━━━━━━━━━━━━━━━━━━━━╇━━━━━━━━━━━━━━━━━━━━━━━━━━━┩\n",
       "│\u001b[36m \u001b[0m\u001b[36m        test_acc         \u001b[0m\u001b[36m \u001b[0m│\u001b[35m \u001b[0m\u001b[35m   0.6593999862670898    \u001b[0m\u001b[35m \u001b[0m│\n",
       "└───────────────────────────┴───────────────────────────┘\n"
      ]
     },
     "metadata": {},
     "output_type": "display_data"
    },
    {
     "name": "stdout",
     "output_type": "stream",
     "text": [
      " | Val Acc 60.33% | Test Acc 65.94%\n"
     ]
    }
   ],
   "source": [
    "val_acc = trainer.validate(datamodule=dm)[0][\"val_acc\"]\n",
    "test_acc = trainer.test(datamodule=dm,)[0][\"test_acc\"]\n",
    "print(f\" | Val Acc {val_acc*100:.2f}%\" f\" | Test Acc {test_acc*100:.2f}%\")"
   ]
  },
  {
   "cell_type": "code",
   "execution_count": 47,
   "metadata": {},
   "outputs": [],
   "source": [
    "def loss_metric_plot(trainer):\n",
    "    # Plotting the metrics\n",
    "    metrics = pd.read_csv(f\"{trainer.logger.log_dir}/metrics.csv\")\n",
    "\n",
    "    aggreg_metrics = []\n",
    "    agg_col = \"epoch\"\n",
    "    for i, dfg in metrics.groupby(agg_col):\n",
    "        agg = dict(dfg.mean())\n",
    "        agg[agg_col] = i\n",
    "        aggreg_metrics.append(agg)\n",
    "    df_metrics = pd.DataFrame(aggreg_metrics)\n",
    "    \n",
    "    df_metrics[[\"train_loss\", \"val_loss\"]].plot(\n",
    "        grid=True, legend=True, xlabel=\"Epoch\", ylabel=\"Loss\"\n",
    "    )\n",
    "    df_metrics[[\"train_acc\", \"val_acc\"]].plot(\n",
    "        grid=True, legend=True, xlabel=\"Epoch\", ylabel=\"ACC\"\n",
    "    )\n",
    "    plt.show()"
   ]
  },
  {
   "cell_type": "code",
   "execution_count": 48,
   "metadata": {},
   "outputs": [
    {
     "data": {
      "image/png": "[encoded data removed]",
      "text/plain": [
       "<Figure size 432x288 with 1 Axes>"
      ]
     },
     "metadata": {
      "needs_background": "light"
     },
     "output_type": "display_data"
    },
    {
     "data": {
      "image/png": "[encoded data removed]",
      "text/plain": [
       "<Figure size 432x288 with 1 Axes>"
      ]
     },
     "metadata": {
      "needs_background": "light"
     },
     "output_type": "display_data"
    }
   ],
   "source": [
    "\n",
    "loss_metric_plot(trainer)"
   ]
  },
  {
   "cell_type": "markdown",
   "metadata": {},
   "source": [
    "Application of model ModelCheckpoint    "
   ]
  },
  {
   "cell_type": "code",
   "execution_count": 49,
   "metadata": {},
   "outputs": [],
   "source": [
    "early_stopping = EarlyStopping(monitor=\"val_loss\", patience=5, verbose=True, mode=\"min\")\n",
    "device_monitor = DeviceStatsMonitor()\n",
    "model_checkpoint = ModelCheckpoint(\n",
    "    dirpath=\"./models\",\n",
    "    monitor=\"val_loss\",\n",
    "    mode=\"min\",\n",
    "    verbose=True,\n",
    "    save_top_k=1,\n",
    ")"
   ]
  },
  {
   "cell_type": "code",
   "execution_count": 50,
   "metadata": {},
   "outputs": [],
   "source": [
    "# base pytorch model\n",
    "resnet_model = ResNetX(\n",
    "    resnet_variant=model_parameters[\"resnet34\"], img_channels=3, num_classes=10\n",
    ").to(device)\n",
    "\n",
    "# lightning wrapped model\n",
    "lightning_resnet = Cifar10ModelLightning(\n",
    "    model=resnet_model,\n",
    "    learning_rate=learning_rate,\n",
    ")\n",
    "\n",
    "# lightning dataloder\n",
    "dm = Cifar10DataModule()"
   ]
  },
  {
   "cell_type": "code",
   "execution_count": 51,
   "metadata": {},
   "outputs": [
    {
     "name": "stderr",
     "output_type": "stream",
     "text": [
      "GPU available: True (cuda), used: True\n",
      "TPU available: False, using: 0 TPU cores\n",
      "IPU available: False, using: 0 IPUs\n",
      "HPU available: False, using: 0 HPUs\n"
     ]
    }
   ],
   "source": [
    "# setting up the trainer module\n",
    "trainer = L.Trainer(\n",
    "    max_epochs=epochs,\n",
    "    accelerator=\"auto\",\n",
    "    devices=\"auto\",\n",
    "    enable_progress_bar=True,\n",
    "    enable_model_summary=True,\n",
    "    logger=CSVLogger(save_dir=\"./logs\", name=\"Mnist_exp\"),\n",
    "    callbacks=[early_stopping, device_monitor, model_checkpoint],\n",
    ")"
   ]
  },
  {
   "cell_type": "code",
   "execution_count": 52,
   "metadata": {},
   "outputs": [
    {
     "name": "stdout",
     "output_type": "stream",
     "text": [
      "Files already downloaded and verified\n",
      "Files already downloaded and verified\n"
     ]
    },
    {
     "name": "stderr",
     "output_type": "stream",
     "text": [
      "/anaconda/envs/torch_env/lib/python3.10/site-packages/lightning/pytorch/callbacks/model_checkpoint.py:653: Checkpoint directory /mnt/batch/tasks/shared/LS_root/mounts/clusters/insights-model-run/code/Users/soutrik.chowdhury/advanced_vision_modules_pytorch/models exists and is not empty.\n",
      "LOCAL_RANK: 0 - CUDA_VISIBLE_DEVICES: [0]\n",
      "\n",
      "  | Name      | Type               | Params\n",
      "-------------------------------------------------\n",
      "0 | model     | ResNetX            | 21.3 M\n",
      "1 | criterion | CrossEntropyLoss   | 0     \n",
      "2 | train_acc | MulticlassAccuracy | 0     \n",
      "3 | test_acc  | MulticlassAccuracy | 0     \n",
      "-------------------------------------------------\n",
      "21.3 M    Trainable params\n",
      "0         Non-trainable params\n",
      "21.3 M    Total params\n",
      "85.159    Total estimated model params size (MB)\n"
     ]
    },
    {
     "data": {
      "application/vnd.jupyter.widget-view+json": {
       "model_id": "52e3319ce4274d87bc252170f8253e13",
       "version_major": 2,
       "version_minor": 0
      },
      "text/plain": [
       "Sanity Checking: |                                                                                            …"
      ]
     },
     "metadata": {},
     "output_type": "display_data"
    },
    {
     "name": "stderr",
     "output_type": "stream",
     "text": [
      "/anaconda/envs/torch_env/lib/python3.10/site-packages/lightning/pytorch/trainer/connectors/data_connector.py:441: The 'val_dataloader' does not have many workers which may be a bottleneck. Consider increasing the value of the `num_workers` argument` to `num_workers=5` in the `DataLoader` to improve performance.\n",
      "/anaconda/envs/torch_env/lib/python3.10/site-packages/lightning/pytorch/trainer/connectors/data_connector.py:441: The 'train_dataloader' does not have many workers which may be a bottleneck. Consider increasing the value of the `num_workers` argument` to `num_workers=5` in the `DataLoader` to improve performance.\n"
     ]
    },
    {
     "data": {
      "application/vnd.jupyter.widget-view+json": {
       "model_id": "d36e96ee999942a79ea213a4c2ee407b",
       "version_major": 2,
       "version_minor": 0
      },
      "text/plain": [
       "Training: |                                                                                                   …"
      ]
     },
     "metadata": {},
     "output_type": "display_data"
    },
    {
     "data": {
      "application/vnd.jupyter.widget-view+json": {
       "model_id": "1c1cfd4d89494a2b8a9120d28e06f2b3",
       "version_major": 2,
       "version_minor": 0
      },
      "text/plain": [
       "Validation: |                                                                                                 …"
      ]
     },
     "metadata": {},
     "output_type": "display_data"
    },
    {
     "name": "stderr",
     "output_type": "stream",
     "text": [
      "Metric val_loss improved. New best score: 1.933\n",
      "Epoch 0, global step 274: 'val_loss' reached 1.93338 (best 1.93338), saving model to '/mnt/batch/tasks/shared/LS_root/mounts/clusters/insights-model-run/code/Users/soutrik.chowdhury/advanced_vision_modules_pytorch/models/epoch=0-step=274.ckpt' as top 1\n"
     ]
    },
    {
     "data": {
      "application/vnd.jupyter.widget-view+json": {
       "model_id": "9456ce5595fe4e01bf3cbe289f36e997",
       "version_major": 2,
       "version_minor": 0
      },
      "text/plain": [
       "Validation: |                                                                                                 …"
      ]
     },
     "metadata": {},
     "output_type": "display_data"
    },
    {
     "name": "stderr",
     "output_type": "stream",
     "text": [
      "Metric val_loss improved by 0.228 >= min_delta = 0.0. New best score: 1.706\n",
      "Epoch 1, global step 548: 'val_loss' reached 1.70558 (best 1.70558), saving model to '/mnt/batch/tasks/shared/LS_root/mounts/clusters/insights-model-run/code/Users/soutrik.chowdhury/advanced_vision_modules_pytorch/models/epoch=1-step=548.ckpt' as top 1\n"
     ]
    },
    {
     "data": {
      "application/vnd.jupyter.widget-view+json": {
       "model_id": "bc863b532534434499335cd3457ec2c5",
       "version_major": 2,
       "version_minor": 0
      },
      "text/plain": [
       "Validation: |                                                                                                 …"
      ]
     },
     "metadata": {},
     "output_type": "display_data"
    },
    {
     "name": "stderr",
     "output_type": "stream",
     "text": [
      "Metric val_loss improved by 0.162 >= min_delta = 0.0. New best score: 1.544\n",
      "Epoch 2, global step 822: 'val_loss' reached 1.54372 (best 1.54372), saving model to '/mnt/batch/tasks/shared/LS_root/mounts/clusters/insights-model-run/code/Users/soutrik.chowdhury/advanced_vision_modules_pytorch/models/epoch=2-step=822.ckpt' as top 1\n"
     ]
    },
    {
     "data": {
      "application/vnd.jupyter.widget-view+json": {
       "model_id": "82ec393e0cb4462aab9cb120160d7650",
       "version_major": 2,
       "version_minor": 0
      },
      "text/plain": [
       "Validation: |                                                                                                 …"
      ]
     },
     "metadata": {},
     "output_type": "display_data"
    },
    {
     "name": "stderr",
     "output_type": "stream",
     "text": [
      "Metric val_loss improved by 0.097 >= min_delta = 0.0. New best score: 1.447\n",
      "Epoch 3, global step 1096: 'val_loss' reached 1.44696 (best 1.44696), saving model to '/mnt/batch/tasks/shared/LS_root/mounts/clusters/insights-model-run/code/Users/soutrik.chowdhury/advanced_vision_modules_pytorch/models/epoch=3-step=1096.ckpt' as top 1\n"
     ]
    },
    {
     "data": {
      "application/vnd.jupyter.widget-view+json": {
       "model_id": "2abbc37b3d86410797594b47dd6dc4fe",
       "version_major": 2,
       "version_minor": 0
      },
      "text/plain": [
       "Validation: |                                                                                                 …"
      ]
     },
     "metadata": {},
     "output_type": "display_data"
    },
    {
     "name": "stderr",
     "output_type": "stream",
     "text": [
      "Epoch 4, global step 1370: 'val_loss' was not in top 1\n"
     ]
    },
    {
     "data": {
      "application/vnd.jupyter.widget-view+json": {
       "model_id": "3cb629c18f064af5963509dc029e26fe",
       "version_major": 2,
       "version_minor": 0
      },
      "text/plain": [
       "Validation: |                                                                                                 …"
      ]
     },
     "metadata": {},
     "output_type": "display_data"
    },
    {
     "name": "stderr",
     "output_type": "stream",
     "text": [
      "Metric val_loss improved by 0.195 >= min_delta = 0.0. New best score: 1.252\n",
      "Epoch 5, global step 1644: 'val_loss' reached 1.25164 (best 1.25164), saving model to '/mnt/batch/tasks/shared/LS_root/mounts/clusters/insights-model-run/code/Users/soutrik.chowdhury/advanced_vision_modules_pytorch/models/epoch=5-step=1644.ckpt' as top 1\n"
     ]
    },
    {
     "data": {
      "application/vnd.jupyter.widget-view+json": {
       "model_id": "e4d2a02e88d540a5b0a523ba341cd1de",
       "version_major": 2,
       "version_minor": 0
      },
      "text/plain": [
       "Validation: |                                                                                                 …"
      ]
     },
     "metadata": {},
     "output_type": "display_data"
    },
    {
     "name": "stderr",
     "output_type": "stream",
     "text": [
      "Epoch 6, global step 1918: 'val_loss' was not in top 1\n"
     ]
    },
    {
     "data": {
      "application/vnd.jupyter.widget-view+json": {
       "model_id": "8d92a69b927d45aa8bc32f5d6fe7f684",
       "version_major": 2,
       "version_minor": 0
      },
      "text/plain": [
       "Validation: |                                                                                                 …"
      ]
     },
     "metadata": {},
     "output_type": "display_data"
    },
    {
     "name": "stderr",
     "output_type": "stream",
     "text": [
      "Metric val_loss improved by 0.088 >= min_delta = 0.0. New best score: 1.163\n",
      "Epoch 7, global step 2192: 'val_loss' reached 1.16316 (best 1.16316), saving model to '/mnt/batch/tasks/shared/LS_root/mounts/clusters/insights-model-run/code/Users/soutrik.chowdhury/advanced_vision_modules_pytorch/models/epoch=7-step=2192-v1.ckpt' as top 1\n"
     ]
    },
    {
     "data": {
      "application/vnd.jupyter.widget-view+json": {
       "model_id": "39e9df8814c1420382d2f16b0f150675",
       "version_major": 2,
       "version_minor": 0
      },
      "text/plain": [
       "Validation: |                                                                                                 …"
      ]
     },
     "metadata": {},
     "output_type": "display_data"
    },
    {
     "name": "stderr",
     "output_type": "stream",
     "text": [
      "Metric val_loss improved by 0.035 >= min_delta = 0.0. New best score: 1.128\n",
      "Epoch 8, global step 2466: 'val_loss' reached 1.12827 (best 1.12827), saving model to '/mnt/batch/tasks/shared/LS_root/mounts/clusters/insights-model-run/code/Users/soutrik.chowdhury/advanced_vision_modules_pytorch/models/epoch=8-step=2466.ckpt' as top 1\n"
     ]
    },
    {
     "data": {
      "application/vnd.jupyter.widget-view+json": {
       "model_id": "0c1ef6c97e194588892b8aa652d20047",
       "version_major": 2,
       "version_minor": 0
      },
      "text/plain": [
       "Validation: |                                                                                                 …"
      ]
     },
     "metadata": {},
     "output_type": "display_data"
    },
    {
     "name": "stderr",
     "output_type": "stream",
     "text": [
      "Epoch 9, global step 2740: 'val_loss' was not in top 1\n",
      "`Trainer.fit` stopped: `max_epochs=10` reached.\n"
     ]
    }
   ],
   "source": [
    "# fitting the model with custom datamodule\n",
    "trainer.fit(model=lightning_resnet, datamodule=dm)"
   ]
  },
  {
   "cell_type": "code",
   "execution_count": 53,
   "metadata": {},
   "outputs": [
    {
     "name": "stdout",
     "output_type": "stream",
     "text": [
      "Files already downloaded and verified\n",
      "Files already downloaded and verified\n"
     ]
    },
    {
     "name": "stderr",
     "output_type": "stream",
     "text": [
      "Restoring states from the checkpoint path at /mnt/batch/tasks/shared/LS_root/mounts/clusters/insights-model-run/code/Users/soutrik.chowdhury/advanced_vision_modules_pytorch/models/epoch=8-step=2466.ckpt\n",
      "LOCAL_RANK: 0 - CUDA_VISIBLE_DEVICES: [0]\n",
      "Loaded model weights from the checkpoint at /mnt/batch/tasks/shared/LS_root/mounts/clusters/insights-model-run/code/Users/soutrik.chowdhury/advanced_vision_modules_pytorch/models/epoch=8-step=2466.ckpt\n"
     ]
    },
    {
     "data": {
      "application/vnd.jupyter.widget-view+json": {
       "model_id": "bb863a759ba34a6c9854e34bb787f412",
       "version_major": 2,
       "version_minor": 0
      },
      "text/plain": [
       "Validation: |                                                                                                 …"
      ]
     },
     "metadata": {},
     "output_type": "display_data"
    },
    {
     "data": {
      "text/html": [
       "<pre style=\"white-space:pre;overflow-x:auto;line-height:normal;font-family:Menlo,'DejaVu Sans Mono',consolas,'Courier New',monospace\">┏━━━━━━━━━━━━━━━━━━━━━━━━━━━┳━━━━━━━━━━━━━━━━━━━━━━━━━━━┓\n",
       "┃<span style=\"font-weight: bold\">      Validate metric      </span>┃<span style=\"font-weight: bold\">       DataLoader 0        </span>┃\n",
       "┡━━━━━━━━━━━━━━━━━━━━━━━━━━━╇━━━━━━━━━━━━━━━━━━━━━━━━━━━┩\n",
       "│<span style=\"color: #008080; text-decoration-color: #008080\">          val_acc          </span>│<span style=\"color: #800080; text-decoration-color: #800080\">    0.5985333323478699     </span>│\n",
       "│<span style=\"color: #008080; text-decoration-color: #008080\">         val_loss          </span>│<span style=\"color: #800080; text-decoration-color: #800080\">     1.12704336643219      </span>│\n",
       "└───────────────────────────┴───────────────────────────┘\n",
       "</pre>\n"
      ],
      "text/plain": [
       "┏━━━━━━━━━━━━━━━━━━━━━━━━━━━┳━━━━━━━━━━━━━━━━━━━━━━━━━━━┓\n",
       "┃\u001b[1m \u001b[0m\u001b[1m     Validate metric     \u001b[0m\u001b[1m \u001b[0m┃\u001b[1m \u001b[0m\u001b[1m      DataLoader 0       \u001b[0m\u001b[1m \u001b[0m┃\n",
       "┡━━━━━━━━━━━━━━━━━━━━━━━━━━━╇━━━━━━━━━━━━━━━━━━━━━━━━━━━┩\n",
       "│\u001b[36m \u001b[0m\u001b[36m         val_acc         \u001b[0m\u001b[36m \u001b[0m│\u001b[35m \u001b[0m\u001b[35m   0.5985333323478699    \u001b[0m\u001b[35m \u001b[0m│\n",
       "│\u001b[36m \u001b[0m\u001b[36m        val_loss         \u001b[0m\u001b[36m \u001b[0m│\u001b[35m \u001b[0m\u001b[35m    1.12704336643219     \u001b[0m\u001b[35m \u001b[0m│\n",
       "└───────────────────────────┴───────────────────────────┘\n"
      ]
     },
     "metadata": {},
     "output_type": "display_data"
    },
    {
     "name": "stdout",
     "output_type": "stream",
     "text": [
      "Files already downloaded and verified\n",
      "Files already downloaded and verified\n"
     ]
    },
    {
     "name": "stderr",
     "output_type": "stream",
     "text": [
      "Restoring states from the checkpoint path at /mnt/batch/tasks/shared/LS_root/mounts/clusters/insights-model-run/code/Users/soutrik.chowdhury/advanced_vision_modules_pytorch/models/epoch=8-step=2466.ckpt\n",
      "LOCAL_RANK: 0 - CUDA_VISIBLE_DEVICES: [0]\n",
      "Loaded model weights from the checkpoint at /mnt/batch/tasks/shared/LS_root/mounts/clusters/insights-model-run/code/Users/soutrik.chowdhury/advanced_vision_modules_pytorch/models/epoch=8-step=2466.ckpt\n",
      "/anaconda/envs/torch_env/lib/python3.10/site-packages/lightning/pytorch/trainer/connectors/data_connector.py:441: The 'test_dataloader' does not have many workers which may be a bottleneck. Consider increasing the value of the `num_workers` argument` to `num_workers=5` in the `DataLoader` to improve performance.\n"
     ]
    },
    {
     "data": {
      "application/vnd.jupyter.widget-view+json": {
       "model_id": "dd7471da297b45258505d52475a4a5e2",
       "version_major": 2,
       "version_minor": 0
      },
      "text/plain": [
       "Testing: |                                                                                                    …"
      ]
     },
     "metadata": {},
     "output_type": "display_data"
    },
    {
     "data": {
      "text/html": [
       "<pre style=\"white-space:pre;overflow-x:auto;line-height:normal;font-family:Menlo,'DejaVu Sans Mono',consolas,'Courier New',monospace\">┏━━━━━━━━━━━━━━━━━━━━━━━━━━━┳━━━━━━━━━━━━━━━━━━━━━━━━━━━┓\n",
       "┃<span style=\"font-weight: bold\">        Test metric        </span>┃<span style=\"font-weight: bold\">       DataLoader 0        </span>┃\n",
       "┡━━━━━━━━━━━━━━━━━━━━━━━━━━━╇━━━━━━━━━━━━━━━━━━━━━━━━━━━┩\n",
       "│<span style=\"color: #008080; text-decoration-color: #008080\">         test_acc          </span>│<span style=\"color: #800080; text-decoration-color: #800080\">    0.6625000238418579     </span>│\n",
       "└───────────────────────────┴───────────────────────────┘\n",
       "</pre>\n"
      ],
      "text/plain": [
       "┏━━━━━━━━━━━━━━━━━━━━━━━━━━━┳━━━━━━━━━━━━━━━━━━━━━━━━━━━┓\n",
       "┃\u001b[1m \u001b[0m\u001b[1m       Test metric       \u001b[0m\u001b[1m \u001b[0m┃\u001b[1m \u001b[0m\u001b[1m      DataLoader 0       \u001b[0m\u001b[1m \u001b[0m┃\n",
       "┡━━━━━━━━━━━━━━━━━━━━━━━━━━━╇━━━━━━━━━━━━━━━━━━━━━━━━━━━┩\n",
       "│\u001b[36m \u001b[0m\u001b[36m        test_acc         \u001b[0m\u001b[36m \u001b[0m│\u001b[35m \u001b[0m\u001b[35m   0.6625000238418579    \u001b[0m\u001b[35m \u001b[0m│\n",
       "└───────────────────────────┴───────────────────────────┘\n"
      ]
     },
     "metadata": {},
     "output_type": "display_data"
    },
    {
     "name": "stdout",
     "output_type": "stream",
     "text": [
      " | Val Acc 59.85% | Test Acc 66.25%\n"
     ]
    }
   ],
   "source": [
    "val_acc = trainer.validate(datamodule=dm, ckpt_path=\"best\")[0][\"val_acc\"]\n",
    "test_acc = trainer.test(datamodule=dm, ckpt_path=\"best\")[0][\"test_acc\"]\n",
    "print(\n",
    "    f\" | Val Acc {val_acc*100:.2f}%\"\n",
    "    f\" | Test Acc {test_acc*100:.2f}%\"\n",
    ")"
   ]
  },
  {
   "cell_type": "markdown",
   "metadata": {},
   "source": [
    "Application of LR finder to get the best LR and then schedule it using 2 types of scheduler"
   ]
  },
  {
   "cell_type": "code",
   "execution_count": null,
   "metadata": {},
   "outputs": [],
   "source": []
  },
  {
   "cell_type": "code",
   "execution_count": null,
   "metadata": {},
   "outputs": [],
   "source": []
  },
  {
   "cell_type": "code",
   "execution_count": null,
   "metadata": {},
   "outputs": [],
   "source": []
  },
  {
   "cell_type": "code",
   "execution_count": null,
   "metadata": {},
   "outputs": [],
   "source": []
  },
  {
   "cell_type": "code",
   "execution_count": null,
   "metadata": {},
   "outputs": [],
   "source": []
  },
  {
   "cell_type": "code",
   "execution_count": null,
   "metadata": {},
   "outputs": [],
   "source": []
  },
  {
   "cell_type": "code",
   "execution_count": null,
   "metadata": {},
   "outputs": [],
   "source": []
  },
  {
   "cell_type": "code",
   "execution_count": null,
   "metadata": {},
   "outputs": [],
   "source": []
  },
  {
   "cell_type": "code",
   "execution_count": null,
   "metadata": {},
   "outputs": [],
   "source": []
  },
  {
   "cell_type": "code",
   "execution_count": null,
   "metadata": {},
   "outputs": [],
   "source": []
  },
  {
   "cell_type": "code",
   "execution_count": null,
   "metadata": {},
   "outputs": [],
   "source": []
  },
  {
   "cell_type": "code",
   "execution_count": null,
   "metadata": {},
   "outputs": [],
   "source": []
  },
  {
   "cell_type": "code",
   "execution_count": null,
   "metadata": {},
   "outputs": [],
   "source": []
  },
  {
   "cell_type": "code",
   "execution_count": null,
   "metadata": {},
   "outputs": [],
   "source": []
  }
 ],
 "metadata": {
  "kernelspec": {
   "display_name": "torch_env",
   "language": "python",
   "name": "python3"
  },
  "language_info": {
   "codemirror_mode": {
    "name": "ipython",
    "version": 3
   },
   "file_extension": ".py",
   "mimetype": "text/x-python",
   "name": "python",
   "nbconvert_exporter": "python",
   "pygments_lexer": "ipython3",
   "version": "3.10.12"
  }
 },
 "nbformat": 4,
 "nbformat_minor": 2
}
